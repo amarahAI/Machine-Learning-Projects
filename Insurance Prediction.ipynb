{
 "cells": [
  {
   "cell_type": "code",
   "execution_count": 1,
   "metadata": {},
   "outputs": [],
   "source": [
    "import pandas as pd\n",
    "import numpy as np\n",
    "import seaborn as sns\n",
    "import matplotlib.pyplot as plt\n",
    "from sklearn import preprocessing \n",
    "from sklearn.model_selection import train_test_split\n",
    "#from xgboost import XGBClassifier\n",
    "from sklearn.ensemble import RandomForestClassifier\n",
    "from sklearn.tree import DecisionTreeClassifier\n",
    "from sklearn.metrics import accuracy_score\n",
    "from sklearn.linear_model import LogisticRegression\n",
    "from scipy import stats\n",
    "from sklearn.metrics import precision_score\n",
    "from sklearn.metrics import recall_score\n",
    "from sklearn.metrics import f1_score\n",
    "from sklearn.metrics import confusion_matrix"
   ]
  },
  {
   "cell_type": "code",
   "execution_count": 5,
   "metadata": {},
   "outputs": [
    {
     "data": {
      "text/html": [
       "<div>\n",
       "<style scoped>\n",
       "    .dataframe tbody tr th:only-of-type {\n",
       "        vertical-align: middle;\n",
       "    }\n",
       "\n",
       "    .dataframe tbody tr th {\n",
       "        vertical-align: top;\n",
       "    }\n",
       "\n",
       "    .dataframe thead th {\n",
       "        text-align: right;\n",
       "    }\n",
       "</style>\n",
       "<table border=\"1\" class=\"dataframe\">\n",
       "  <thead>\n",
       "    <tr style=\"text-align: right;\">\n",
       "      <th></th>\n",
       "      <th>CLAIM_NO</th>\n",
       "      <th>INDEMNITY_PAID_TO_DATE_USD_AM</th>\n",
       "      <th>EXPENSE_PAID_TO_DATE_USD</th>\n",
       "      <th>Third_Party_Flag</th>\n",
       "      <th>Economic_Loss_Flag</th>\n",
       "      <th>FATAL_INJURY_IN</th>\n",
       "      <th>Fatal_Injury_In_Y</th>\n",
       "      <th>Fatal_Injury_In_N</th>\n",
       "      <th>Fatal_Injury_In_Space</th>\n",
       "      <th>HAS_INJURY_DETAILS</th>\n",
       "      <th>HAS_INJURY_DETAILS_TRUE</th>\n",
       "      <th>HAS_INJURY_DETAILS_FALSE</th>\n",
       "      <th>CLAIM_TYPE</th>\n",
       "      <th>Loss_Days_Since_Policy_First_Taken</th>\n",
       "      <th>Days_Loss_Notice</th>\n",
       "      <th>Loss_Days_before_Policy_Termination</th>\n",
       "      <th>LOSS_LOC_STATE_PROVINCE_NM</th>\n",
       "      <th>CLAIM_COUNT</th>\n",
       "      <th>Visibility_Score</th>\n",
       "      <th>Fraud</th>\n",
       "    </tr>\n",
       "  </thead>\n",
       "  <tbody>\n",
       "    <tr>\n",
       "      <th>0</th>\n",
       "      <td>3221219558US</td>\n",
       "      <td>0.0</td>\n",
       "      <td>0.0</td>\n",
       "      <td>1</td>\n",
       "      <td>0</td>\n",
       "      <td>Y</td>\n",
       "      <td>1</td>\n",
       "      <td>0</td>\n",
       "      <td>0</td>\n",
       "      <td>NaN</td>\n",
       "      <td>0</td>\n",
       "      <td>0</td>\n",
       "      <td>Health Care</td>\n",
       "      <td>1822</td>\n",
       "      <td>1</td>\n",
       "      <td>1</td>\n",
       "      <td>Arizona</td>\n",
       "      <td>34</td>\n",
       "      <td>3</td>\n",
       "      <td>No</td>\n",
       "    </tr>\n",
       "    <tr>\n",
       "      <th>1</th>\n",
       "      <td>7640856703US</td>\n",
       "      <td>0.0</td>\n",
       "      <td>203.0</td>\n",
       "      <td>0</td>\n",
       "      <td>0</td>\n",
       "      <td>N</td>\n",
       "      <td>0</td>\n",
       "      <td>1</td>\n",
       "      <td>0</td>\n",
       "      <td>0.0</td>\n",
       "      <td>0</td>\n",
       "      <td>1</td>\n",
       "      <td>Auto Liability</td>\n",
       "      <td>149</td>\n",
       "      <td>753</td>\n",
       "      <td>217</td>\n",
       "      <td>Indiana</td>\n",
       "      <td>0</td>\n",
       "      <td>3</td>\n",
       "      <td>No</td>\n",
       "    </tr>\n",
       "    <tr>\n",
       "      <th>2</th>\n",
       "      <td>9500965780US</td>\n",
       "      <td>0.0</td>\n",
       "      <td>0.0</td>\n",
       "      <td>1</td>\n",
       "      <td>0</td>\n",
       "      <td>N</td>\n",
       "      <td>0</td>\n",
       "      <td>1</td>\n",
       "      <td>0</td>\n",
       "      <td>0.0</td>\n",
       "      <td>0</td>\n",
       "      <td>1</td>\n",
       "      <td>Health Care</td>\n",
       "      <td>1822</td>\n",
       "      <td>1</td>\n",
       "      <td>1</td>\n",
       "      <td>Arizona</td>\n",
       "      <td>0</td>\n",
       "      <td>3</td>\n",
       "      <td>No</td>\n",
       "    </tr>\n",
       "    <tr>\n",
       "      <th>3</th>\n",
       "      <td>5946393427US</td>\n",
       "      <td>0.0</td>\n",
       "      <td>580.0</td>\n",
       "      <td>1</td>\n",
       "      <td>0</td>\n",
       "      <td>N</td>\n",
       "      <td>0</td>\n",
       "      <td>1</td>\n",
       "      <td>0</td>\n",
       "      <td>0.0</td>\n",
       "      <td>0</td>\n",
       "      <td>1</td>\n",
       "      <td>Coverage</td>\n",
       "      <td>1153</td>\n",
       "      <td>1025</td>\n",
       "      <td>338</td>\n",
       "      <td>British Columbia</td>\n",
       "      <td>12</td>\n",
       "      <td>3</td>\n",
       "      <td>No</td>\n",
       "    </tr>\n",
       "    <tr>\n",
       "      <th>4</th>\n",
       "      <td>2407369559US</td>\n",
       "      <td>0.0</td>\n",
       "      <td>0.0</td>\n",
       "      <td>1</td>\n",
       "      <td>0</td>\n",
       "      <td>N</td>\n",
       "      <td>0</td>\n",
       "      <td>1</td>\n",
       "      <td>0</td>\n",
       "      <td>1.0</td>\n",
       "      <td>1</td>\n",
       "      <td>0</td>\n",
       "      <td>General Liability</td>\n",
       "      <td>101</td>\n",
       "      <td>55</td>\n",
       "      <td>264</td>\n",
       "      <td>West Virginia</td>\n",
       "      <td>109</td>\n",
       "      <td>1</td>\n",
       "      <td>No</td>\n",
       "    </tr>\n",
       "  </tbody>\n",
       "</table>\n",
       "</div>"
      ],
      "text/plain": [
       "       CLAIM_NO  INDEMNITY_PAID_TO_DATE_USD_AM  EXPENSE_PAID_TO_DATE_USD  \\\n",
       "0  3221219558US                            0.0                       0.0   \n",
       "1  7640856703US                            0.0                     203.0   \n",
       "2  9500965780US                            0.0                       0.0   \n",
       "3  5946393427US                            0.0                     580.0   \n",
       "4  2407369559US                            0.0                       0.0   \n",
       "\n",
       "   Third_Party_Flag  Economic_Loss_Flag FATAL_INJURY_IN  Fatal_Injury_In_Y  \\\n",
       "0                 1                   0               Y                  1   \n",
       "1                 0                   0               N                  0   \n",
       "2                 1                   0               N                  0   \n",
       "3                 1                   0               N                  0   \n",
       "4                 1                   0               N                  0   \n",
       "\n",
       "   Fatal_Injury_In_N  Fatal_Injury_In_Space  HAS_INJURY_DETAILS  \\\n",
       "0                  0                      0                 NaN   \n",
       "1                  1                      0                 0.0   \n",
       "2                  1                      0                 0.0   \n",
       "3                  1                      0                 0.0   \n",
       "4                  1                      0                 1.0   \n",
       "\n",
       "   HAS_INJURY_DETAILS_TRUE  HAS_INJURY_DETAILS_FALSE         CLAIM_TYPE  \\\n",
       "0                        0                         0        Health Care   \n",
       "1                        0                         1     Auto Liability   \n",
       "2                        0                         1        Health Care   \n",
       "3                        0                         1           Coverage   \n",
       "4                        1                         0  General Liability   \n",
       "\n",
       "   Loss_Days_Since_Policy_First_Taken  Days_Loss_Notice  \\\n",
       "0                                1822                 1   \n",
       "1                                 149               753   \n",
       "2                                1822                 1   \n",
       "3                                1153              1025   \n",
       "4                                 101                55   \n",
       "\n",
       "   Loss_Days_before_Policy_Termination LOSS_LOC_STATE_PROVINCE_NM  \\\n",
       "0                                    1                    Arizona   \n",
       "1                                  217                    Indiana   \n",
       "2                                    1                    Arizona   \n",
       "3                                  338           British Columbia   \n",
       "4                                  264              West Virginia   \n",
       "\n",
       "   CLAIM_COUNT  Visibility_Score Fraud  \n",
       "0           34                 3    No  \n",
       "1            0                 3    No  \n",
       "2            0                 3    No  \n",
       "3           12                 3    No  \n",
       "4          109                 1    No  "
      ]
     },
     "execution_count": 5,
     "metadata": {},
     "output_type": "execute_result"
    }
   ],
   "source": [
    "#Reading dataset\n",
    "data = pd.read_excel(\"Training_Data_Set_1.xlsx\")\n",
    "data.head()"
   ]
  },
  {
   "cell_type": "code",
   "execution_count": 6,
   "metadata": {},
   "outputs": [
    {
     "data": {
      "text/plain": [
       "(324, 20)"
      ]
     },
     "execution_count": 6,
     "metadata": {},
     "output_type": "execute_result"
    }
   ],
   "source": [
    "#checking the number of columns and rows in the dataset\n",
    "data.shape"
   ]
  },
  {
   "cell_type": "code",
   "execution_count": 7,
   "metadata": {},
   "outputs": [
    {
     "data": {
      "text/html": [
       "<div>\n",
       "<style scoped>\n",
       "    .dataframe tbody tr th:only-of-type {\n",
       "        vertical-align: middle;\n",
       "    }\n",
       "\n",
       "    .dataframe tbody tr th {\n",
       "        vertical-align: top;\n",
       "    }\n",
       "\n",
       "    .dataframe thead th {\n",
       "        text-align: right;\n",
       "    }\n",
       "</style>\n",
       "<table border=\"1\" class=\"dataframe\">\n",
       "  <thead>\n",
       "    <tr style=\"text-align: right;\">\n",
       "      <th></th>\n",
       "      <th>INDEMNITY_PAID_TO_DATE_USD_AM</th>\n",
       "      <th>EXPENSE_PAID_TO_DATE_USD</th>\n",
       "      <th>Third_Party_Flag</th>\n",
       "      <th>Economic_Loss_Flag</th>\n",
       "      <th>Fatal_Injury_In_Y</th>\n",
       "      <th>Fatal_Injury_In_N</th>\n",
       "      <th>Fatal_Injury_In_Space</th>\n",
       "      <th>HAS_INJURY_DETAILS</th>\n",
       "      <th>HAS_INJURY_DETAILS_TRUE</th>\n",
       "      <th>HAS_INJURY_DETAILS_FALSE</th>\n",
       "      <th>Loss_Days_Since_Policy_First_Taken</th>\n",
       "      <th>Days_Loss_Notice</th>\n",
       "      <th>Loss_Days_before_Policy_Termination</th>\n",
       "      <th>CLAIM_COUNT</th>\n",
       "      <th>Visibility_Score</th>\n",
       "    </tr>\n",
       "  </thead>\n",
       "  <tbody>\n",
       "    <tr>\n",
       "      <th>count</th>\n",
       "      <td>324.000000</td>\n",
       "      <td>324.000000</td>\n",
       "      <td>324.000000</td>\n",
       "      <td>324.0</td>\n",
       "      <td>324.000000</td>\n",
       "      <td>324.000000</td>\n",
       "      <td>324.000000</td>\n",
       "      <td>288.000000</td>\n",
       "      <td>324.000000</td>\n",
       "      <td>324.000000</td>\n",
       "      <td>324.000000</td>\n",
       "      <td>324.000000</td>\n",
       "      <td>324.000000</td>\n",
       "      <td>324.000000</td>\n",
       "      <td>324.000000</td>\n",
       "    </tr>\n",
       "    <tr>\n",
       "      <th>mean</th>\n",
       "      <td>1732.616481</td>\n",
       "      <td>570.022469</td>\n",
       "      <td>0.919753</td>\n",
       "      <td>0.0</td>\n",
       "      <td>0.132716</td>\n",
       "      <td>0.864198</td>\n",
       "      <td>0.003086</td>\n",
       "      <td>0.597222</td>\n",
       "      <td>0.530864</td>\n",
       "      <td>0.358025</td>\n",
       "      <td>534.577160</td>\n",
       "      <td>1928.910494</td>\n",
       "      <td>256.728395</td>\n",
       "      <td>143.466049</td>\n",
       "      <td>2.694444</td>\n",
       "    </tr>\n",
       "    <tr>\n",
       "      <th>std</th>\n",
       "      <td>16218.411307</td>\n",
       "      <td>2123.192421</td>\n",
       "      <td>0.272095</td>\n",
       "      <td>0.0</td>\n",
       "      <td>0.339792</td>\n",
       "      <td>0.343109</td>\n",
       "      <td>0.055556</td>\n",
       "      <td>0.491310</td>\n",
       "      <td>0.499818</td>\n",
       "      <td>0.480161</td>\n",
       "      <td>791.228056</td>\n",
       "      <td>2918.749451</td>\n",
       "      <td>144.342537</td>\n",
       "      <td>742.327777</td>\n",
       "      <td>0.674043</td>\n",
       "    </tr>\n",
       "    <tr>\n",
       "      <th>min</th>\n",
       "      <td>0.000000</td>\n",
       "      <td>0.000000</td>\n",
       "      <td>0.000000</td>\n",
       "      <td>0.0</td>\n",
       "      <td>0.000000</td>\n",
       "      <td>0.000000</td>\n",
       "      <td>0.000000</td>\n",
       "      <td>0.000000</td>\n",
       "      <td>0.000000</td>\n",
       "      <td>0.000000</td>\n",
       "      <td>0.000000</td>\n",
       "      <td>0.000000</td>\n",
       "      <td>1.000000</td>\n",
       "      <td>0.000000</td>\n",
       "      <td>1.000000</td>\n",
       "    </tr>\n",
       "    <tr>\n",
       "      <th>25%</th>\n",
       "      <td>0.000000</td>\n",
       "      <td>0.000000</td>\n",
       "      <td>1.000000</td>\n",
       "      <td>0.0</td>\n",
       "      <td>0.000000</td>\n",
       "      <td>1.000000</td>\n",
       "      <td>0.000000</td>\n",
       "      <td>0.000000</td>\n",
       "      <td>0.000000</td>\n",
       "      <td>0.000000</td>\n",
       "      <td>0.000000</td>\n",
       "      <td>22.750000</td>\n",
       "      <td>142.250000</td>\n",
       "      <td>0.000000</td>\n",
       "      <td>3.000000</td>\n",
       "    </tr>\n",
       "    <tr>\n",
       "      <th>50%</th>\n",
       "      <td>0.000000</td>\n",
       "      <td>0.000000</td>\n",
       "      <td>1.000000</td>\n",
       "      <td>0.0</td>\n",
       "      <td>0.000000</td>\n",
       "      <td>1.000000</td>\n",
       "      <td>0.000000</td>\n",
       "      <td>1.000000</td>\n",
       "      <td>1.000000</td>\n",
       "      <td>0.000000</td>\n",
       "      <td>184.500000</td>\n",
       "      <td>463.000000</td>\n",
       "      <td>314.500000</td>\n",
       "      <td>6.000000</td>\n",
       "      <td>3.000000</td>\n",
       "    </tr>\n",
       "    <tr>\n",
       "      <th>75%</th>\n",
       "      <td>0.000000</td>\n",
       "      <td>500.000000</td>\n",
       "      <td>1.000000</td>\n",
       "      <td>0.0</td>\n",
       "      <td>0.000000</td>\n",
       "      <td>1.000000</td>\n",
       "      <td>0.000000</td>\n",
       "      <td>1.000000</td>\n",
       "      <td>1.000000</td>\n",
       "      <td>1.000000</td>\n",
       "      <td>750.250000</td>\n",
       "      <td>3126.000000</td>\n",
       "      <td>365.000000</td>\n",
       "      <td>31.250000</td>\n",
       "      <td>3.000000</td>\n",
       "    </tr>\n",
       "    <tr>\n",
       "      <th>max</th>\n",
       "      <td>230000.000000</td>\n",
       "      <td>24130.880000</td>\n",
       "      <td>1.000000</td>\n",
       "      <td>0.0</td>\n",
       "      <td>1.000000</td>\n",
       "      <td>1.000000</td>\n",
       "      <td>1.000000</td>\n",
       "      <td>1.000000</td>\n",
       "      <td>1.000000</td>\n",
       "      <td>1.000000</td>\n",
       "      <td>4075.000000</td>\n",
       "      <td>15817.000000</td>\n",
       "      <td>798.000000</td>\n",
       "      <td>7810.000000</td>\n",
       "      <td>3.000000</td>\n",
       "    </tr>\n",
       "  </tbody>\n",
       "</table>\n",
       "</div>"
      ],
      "text/plain": [
       "       INDEMNITY_PAID_TO_DATE_USD_AM  EXPENSE_PAID_TO_DATE_USD  \\\n",
       "count                     324.000000                324.000000   \n",
       "mean                     1732.616481                570.022469   \n",
       "std                     16218.411307               2123.192421   \n",
       "min                         0.000000                  0.000000   \n",
       "25%                         0.000000                  0.000000   \n",
       "50%                         0.000000                  0.000000   \n",
       "75%                         0.000000                500.000000   \n",
       "max                    230000.000000              24130.880000   \n",
       "\n",
       "       Third_Party_Flag  Economic_Loss_Flag  Fatal_Injury_In_Y  \\\n",
       "count        324.000000               324.0         324.000000   \n",
       "mean           0.919753                 0.0           0.132716   \n",
       "std            0.272095                 0.0           0.339792   \n",
       "min            0.000000                 0.0           0.000000   \n",
       "25%            1.000000                 0.0           0.000000   \n",
       "50%            1.000000                 0.0           0.000000   \n",
       "75%            1.000000                 0.0           0.000000   \n",
       "max            1.000000                 0.0           1.000000   \n",
       "\n",
       "       Fatal_Injury_In_N  Fatal_Injury_In_Space  HAS_INJURY_DETAILS  \\\n",
       "count         324.000000             324.000000          288.000000   \n",
       "mean            0.864198               0.003086            0.597222   \n",
       "std             0.343109               0.055556            0.491310   \n",
       "min             0.000000               0.000000            0.000000   \n",
       "25%             1.000000               0.000000            0.000000   \n",
       "50%             1.000000               0.000000            1.000000   \n",
       "75%             1.000000               0.000000            1.000000   \n",
       "max             1.000000               1.000000            1.000000   \n",
       "\n",
       "       HAS_INJURY_DETAILS_TRUE  HAS_INJURY_DETAILS_FALSE  \\\n",
       "count               324.000000                324.000000   \n",
       "mean                  0.530864                  0.358025   \n",
       "std                   0.499818                  0.480161   \n",
       "min                   0.000000                  0.000000   \n",
       "25%                   0.000000                  0.000000   \n",
       "50%                   1.000000                  0.000000   \n",
       "75%                   1.000000                  1.000000   \n",
       "max                   1.000000                  1.000000   \n",
       "\n",
       "       Loss_Days_Since_Policy_First_Taken  Days_Loss_Notice  \\\n",
       "count                          324.000000        324.000000   \n",
       "mean                           534.577160       1928.910494   \n",
       "std                            791.228056       2918.749451   \n",
       "min                              0.000000          0.000000   \n",
       "25%                              0.000000         22.750000   \n",
       "50%                            184.500000        463.000000   \n",
       "75%                            750.250000       3126.000000   \n",
       "max                           4075.000000      15817.000000   \n",
       "\n",
       "       Loss_Days_before_Policy_Termination  CLAIM_COUNT  Visibility_Score  \n",
       "count                           324.000000   324.000000        324.000000  \n",
       "mean                            256.728395   143.466049          2.694444  \n",
       "std                             144.342537   742.327777          0.674043  \n",
       "min                               1.000000     0.000000          1.000000  \n",
       "25%                             142.250000     0.000000          3.000000  \n",
       "50%                             314.500000     6.000000          3.000000  \n",
       "75%                             365.000000    31.250000          3.000000  \n",
       "max                             798.000000  7810.000000          3.000000  "
      ]
     },
     "execution_count": 7,
     "metadata": {},
     "output_type": "execute_result"
    }
   ],
   "source": [
    "#Dataset summary\n",
    "data.describe()"
   ]
  },
  {
   "cell_type": "code",
   "execution_count": 8,
   "metadata": {},
   "outputs": [],
   "source": [
    "# remove spaces in columns name\n",
    "data.columns = data.columns.str.replace(' ','_')"
   ]
  },
  {
   "cell_type": "code",
   "execution_count": 9,
   "metadata": {},
   "outputs": [
    {
     "data": {
      "text/plain": [
       "CLAIM_NO                                0\n",
       "INDEMNITY_PAID_TO_DATE_USD_AM           0\n",
       "EXPENSE_PAID_TO_DATE_USD                0\n",
       "Third_Party_Flag                        0\n",
       "Economic_Loss_Flag                      0\n",
       "FATAL_INJURY_IN                         1\n",
       "Fatal_Injury_In_Y                       0\n",
       "Fatal_Injury_In_N                       0\n",
       "Fatal_Injury_In_Space                   0\n",
       "HAS_INJURY_DETAILS                     36\n",
       "HAS_INJURY_DETAILS_TRUE                 0\n",
       "HAS_INJURY_DETAILS_FALSE                0\n",
       "CLAIM_TYPE                              0\n",
       "Loss_Days_Since_Policy_First_Taken      0\n",
       "Days_Loss_Notice                        0\n",
       "Loss_Days_before_Policy_Termination     0\n",
       "LOSS_LOC_STATE_PROVINCE_NM              0\n",
       "CLAIM_COUNT                             0\n",
       "Visibility_Score                        0\n",
       "Fraud                                   0\n",
       "dtype: int64"
      ]
     },
     "execution_count": 9,
     "metadata": {},
     "output_type": "execute_result"
    }
   ],
   "source": [
    "#Although no missing values are present, there are values of '?' present,converting '?' as missing values '\n",
    "#data.replace({\"?\": np.nan}, inplace = True)\n",
    "data.isna().sum()"
   ]
  },
  {
   "cell_type": "code",
   "execution_count": 10,
   "metadata": {
    "scrolled": true
   },
   "outputs": [
    {
     "data": {
      "text/html": [
       "<div>\n",
       "<style scoped>\n",
       "    .dataframe tbody tr th:only-of-type {\n",
       "        vertical-align: middle;\n",
       "    }\n",
       "\n",
       "    .dataframe tbody tr th {\n",
       "        vertical-align: top;\n",
       "    }\n",
       "\n",
       "    .dataframe thead th {\n",
       "        text-align: right;\n",
       "    }\n",
       "</style>\n",
       "<table border=\"1\" class=\"dataframe\">\n",
       "  <thead>\n",
       "    <tr style=\"text-align: right;\">\n",
       "      <th></th>\n",
       "      <th>column_name</th>\n",
       "      <th>percent_missing</th>\n",
       "    </tr>\n",
       "  </thead>\n",
       "  <tbody>\n",
       "    <tr>\n",
       "      <th>CLAIM_NO</th>\n",
       "      <td>CLAIM_NO</td>\n",
       "      <td>0.000000</td>\n",
       "    </tr>\n",
       "    <tr>\n",
       "      <th>INDEMNITY_PAID_TO_DATE_USD_AM</th>\n",
       "      <td>INDEMNITY_PAID_TO_DATE_USD_AM</td>\n",
       "      <td>0.000000</td>\n",
       "    </tr>\n",
       "    <tr>\n",
       "      <th>EXPENSE_PAID_TO_DATE_USD</th>\n",
       "      <td>EXPENSE_PAID_TO_DATE_USD</td>\n",
       "      <td>0.000000</td>\n",
       "    </tr>\n",
       "    <tr>\n",
       "      <th>Third_Party_Flag</th>\n",
       "      <td>Third_Party_Flag</td>\n",
       "      <td>0.000000</td>\n",
       "    </tr>\n",
       "    <tr>\n",
       "      <th>Economic_Loss_Flag</th>\n",
       "      <td>Economic_Loss_Flag</td>\n",
       "      <td>0.000000</td>\n",
       "    </tr>\n",
       "    <tr>\n",
       "      <th>FATAL_INJURY_IN</th>\n",
       "      <td>FATAL_INJURY_IN</td>\n",
       "      <td>0.308642</td>\n",
       "    </tr>\n",
       "    <tr>\n",
       "      <th>Fatal_Injury_In_Y</th>\n",
       "      <td>Fatal_Injury_In_Y</td>\n",
       "      <td>0.000000</td>\n",
       "    </tr>\n",
       "    <tr>\n",
       "      <th>Fatal_Injury_In_N</th>\n",
       "      <td>Fatal_Injury_In_N</td>\n",
       "      <td>0.000000</td>\n",
       "    </tr>\n",
       "    <tr>\n",
       "      <th>Fatal_Injury_In_Space</th>\n",
       "      <td>Fatal_Injury_In_Space</td>\n",
       "      <td>0.000000</td>\n",
       "    </tr>\n",
       "    <tr>\n",
       "      <th>HAS_INJURY_DETAILS</th>\n",
       "      <td>HAS_INJURY_DETAILS</td>\n",
       "      <td>11.111111</td>\n",
       "    </tr>\n",
       "    <tr>\n",
       "      <th>HAS_INJURY_DETAILS_TRUE</th>\n",
       "      <td>HAS_INJURY_DETAILS_TRUE</td>\n",
       "      <td>0.000000</td>\n",
       "    </tr>\n",
       "    <tr>\n",
       "      <th>HAS_INJURY_DETAILS_FALSE</th>\n",
       "      <td>HAS_INJURY_DETAILS_FALSE</td>\n",
       "      <td>0.000000</td>\n",
       "    </tr>\n",
       "    <tr>\n",
       "      <th>CLAIM_TYPE</th>\n",
       "      <td>CLAIM_TYPE</td>\n",
       "      <td>0.000000</td>\n",
       "    </tr>\n",
       "    <tr>\n",
       "      <th>Loss_Days_Since_Policy_First_Taken</th>\n",
       "      <td>Loss_Days_Since_Policy_First_Taken</td>\n",
       "      <td>0.000000</td>\n",
       "    </tr>\n",
       "    <tr>\n",
       "      <th>Days_Loss_Notice</th>\n",
       "      <td>Days_Loss_Notice</td>\n",
       "      <td>0.000000</td>\n",
       "    </tr>\n",
       "    <tr>\n",
       "      <th>Loss_Days_before_Policy_Termination</th>\n",
       "      <td>Loss_Days_before_Policy_Termination</td>\n",
       "      <td>0.000000</td>\n",
       "    </tr>\n",
       "    <tr>\n",
       "      <th>LOSS_LOC_STATE_PROVINCE_NM</th>\n",
       "      <td>LOSS_LOC_STATE_PROVINCE_NM</td>\n",
       "      <td>0.000000</td>\n",
       "    </tr>\n",
       "    <tr>\n",
       "      <th>CLAIM_COUNT</th>\n",
       "      <td>CLAIM_COUNT</td>\n",
       "      <td>0.000000</td>\n",
       "    </tr>\n",
       "    <tr>\n",
       "      <th>Visibility_Score</th>\n",
       "      <td>Visibility_Score</td>\n",
       "      <td>0.000000</td>\n",
       "    </tr>\n",
       "    <tr>\n",
       "      <th>Fraud</th>\n",
       "      <td>Fraud</td>\n",
       "      <td>0.000000</td>\n",
       "    </tr>\n",
       "  </tbody>\n",
       "</table>\n",
       "</div>"
      ],
      "text/plain": [
       "                                                             column_name  \\\n",
       "CLAIM_NO                                                        CLAIM_NO   \n",
       "INDEMNITY_PAID_TO_DATE_USD_AM              INDEMNITY_PAID_TO_DATE_USD_AM   \n",
       "EXPENSE_PAID_TO_DATE_USD                        EXPENSE_PAID_TO_DATE_USD   \n",
       "Third_Party_Flag                                        Third_Party_Flag   \n",
       "Economic_Loss_Flag                                    Economic_Loss_Flag   \n",
       "FATAL_INJURY_IN                                          FATAL_INJURY_IN   \n",
       "Fatal_Injury_In_Y                                      Fatal_Injury_In_Y   \n",
       "Fatal_Injury_In_N                                      Fatal_Injury_In_N   \n",
       "Fatal_Injury_In_Space                              Fatal_Injury_In_Space   \n",
       "HAS_INJURY_DETAILS                                    HAS_INJURY_DETAILS   \n",
       "HAS_INJURY_DETAILS_TRUE                          HAS_INJURY_DETAILS_TRUE   \n",
       "HAS_INJURY_DETAILS_FALSE                        HAS_INJURY_DETAILS_FALSE   \n",
       "CLAIM_TYPE                                                    CLAIM_TYPE   \n",
       "Loss_Days_Since_Policy_First_Taken    Loss_Days_Since_Policy_First_Taken   \n",
       "Days_Loss_Notice                                        Days_Loss_Notice   \n",
       "Loss_Days_before_Policy_Termination  Loss_Days_before_Policy_Termination   \n",
       "LOSS_LOC_STATE_PROVINCE_NM                    LOSS_LOC_STATE_PROVINCE_NM   \n",
       "CLAIM_COUNT                                                  CLAIM_COUNT   \n",
       "Visibility_Score                                        Visibility_Score   \n",
       "Fraud                                                              Fraud   \n",
       "\n",
       "                                     percent_missing  \n",
       "CLAIM_NO                                    0.000000  \n",
       "INDEMNITY_PAID_TO_DATE_USD_AM               0.000000  \n",
       "EXPENSE_PAID_TO_DATE_USD                    0.000000  \n",
       "Third_Party_Flag                            0.000000  \n",
       "Economic_Loss_Flag                          0.000000  \n",
       "FATAL_INJURY_IN                             0.308642  \n",
       "Fatal_Injury_In_Y                           0.000000  \n",
       "Fatal_Injury_In_N                           0.000000  \n",
       "Fatal_Injury_In_Space                       0.000000  \n",
       "HAS_INJURY_DETAILS                         11.111111  \n",
       "HAS_INJURY_DETAILS_TRUE                     0.000000  \n",
       "HAS_INJURY_DETAILS_FALSE                    0.000000  \n",
       "CLAIM_TYPE                                  0.000000  \n",
       "Loss_Days_Since_Policy_First_Taken          0.000000  \n",
       "Days_Loss_Notice                            0.000000  \n",
       "Loss_Days_before_Policy_Termination         0.000000  \n",
       "LOSS_LOC_STATE_PROVINCE_NM                  0.000000  \n",
       "CLAIM_COUNT                                 0.000000  \n",
       "Visibility_Score                            0.000000  \n",
       "Fraud                                       0.000000  "
      ]
     },
     "execution_count": 10,
     "metadata": {},
     "output_type": "execute_result"
    }
   ],
   "source": [
    "#Missing Values and their Percentage  column wise\n",
    "percent_missing = data.isnull().sum() * 100 / len(data)\n",
    "missing_value_df = pd.DataFrame({'column_name': data.columns,\n",
    "                                 'percent_missing': percent_missing})\n",
    "missing_value_df"
   ]
  },
  {
   "cell_type": "markdown",
   "metadata": {},
   "source": [
    "# EDA"
   ]
  },
  {
   "cell_type": "code",
   "execution_count": 8,
   "metadata": {},
   "outputs": [],
   "source": [
    "#Missing Value Imputation\n",
    "def impute_nan(dataframe, column_name):\n",
    "    frequent_value = dataframe[column_name].mode()[0]\n",
    "    dataframe[column_name] = dataframe[column_name].fillna(frequent_value)"
   ]
  },
  {
   "cell_type": "code",
   "execution_count": 9,
   "metadata": {},
   "outputs": [],
   "source": [
    "#These are Category column so imputation will be done on most frequent ones\n",
    "for column in [\"FATAL_INJURY_IN\",\"HAS_INJURY_DETAILS\"]:\n",
    "    impute_nan(data, column)"
   ]
  },
  {
   "cell_type": "code",
   "execution_count": 10,
   "metadata": {},
   "outputs": [],
   "source": [
    "numerical_values=['INDEMNITY_PAID_TO_DATE_USD_AM','EXPENSE_PAID_TO_DATE_USD','HAS_INJURY_DETAILS']\n",
    "for i in numerical_values:\n",
    "    data[i]=data[i].astype(int)"
   ]
  },
  {
   "cell_type": "code",
   "execution_count": 11,
   "metadata": {},
   "outputs": [],
   "source": [
    "#Removing the Duplicate Recordsa\n",
    "data.drop_duplicates(inplace=True)"
   ]
  },
  {
   "cell_type": "code",
   "execution_count": 12,
   "metadata": {},
   "outputs": [],
   "source": [
    "cat=['Third_Party_Flag' ,'FATAL_INJURY_IN' ,'Fatal_Injury_In_Y' ,'Fatal_Injury_In_N' ,'Fatal_Injury_In_Space' ,'HAS_INJURY_DETAILS' ,'HAS_INJURY_DETAILS_TRUE' ,'HAS_INJURY_DETAILS_FALSE']\n",
    "for col in cat:\n",
    "    data[col] = data[col].astype('category',copy=False)"
   ]
  },
  {
   "cell_type": "code",
   "execution_count": 13,
   "metadata": {},
   "outputs": [],
   "source": [
    "data['Fraud'] = data['Fraud'] .map({'Yes': 1, 'No': 0}).astype(int)"
   ]
  },
  {
   "cell_type": "markdown",
   "metadata": {},
   "source": [
    "# numerical data exploration"
   ]
  },
  {
   "cell_type": "code",
   "execution_count": 14,
   "metadata": {},
   "outputs": [
    {
     "name": "stderr",
     "output_type": "stream",
     "text": [
      "C:\\Users\\admin\\anaconda3\\lib\\site-packages\\seaborn\\distributions.py:2551: FutureWarning: `distplot` is a deprecated function and will be removed in a future version. Please adapt your code to use either `displot` (a figure-level function with similar flexibility) or `histplot` (an axes-level function for histograms).\n",
      "  warnings.warn(msg, FutureWarning)\n"
     ]
    },
    {
     "data": {
      "image/png": "[encoded data removed]",
      "text/plain": [
       "<Figure size 1080x360 with 1 Axes>"
      ]
     },
     "metadata": {
      "needs_background": "light"
     },
     "output_type": "display_data"
    }
   ],
   "source": [
    "plt.figure(figsize=(15,5))\n",
    "sns.distplot(data['INDEMNITY_PAID_TO_DATE_USD_AM'],kde=False)\n",
    "plt.show()"
   ]
  },
  {
   "cell_type": "code",
   "execution_count": 15,
   "metadata": {},
   "outputs": [
    {
     "data": {
      "image/png": "[encoded data removed]",
      "text/plain": [
       "<Figure size 1080x360 with 1 Axes>"
      ]
     },
     "metadata": {
      "needs_background": "light"
     },
     "output_type": "display_data"
    }
   ],
   "source": [
    "plt.figure(figsize=(15,5))\n",
    "sns.distplot(data['EXPENSE_PAID_TO_DATE_USD'],kde=False)\n",
    "plt.show()"
   ]
  },
  {
   "cell_type": "code",
   "execution_count": 16,
   "metadata": {},
   "outputs": [
    {
     "data": {
      "image/png": "[encoded data removed]",
      "text/plain": [
       "<Figure size 1080x360 with 1 Axes>"
      ]
     },
     "metadata": {
      "needs_background": "light"
     },
     "output_type": "display_data"
    }
   ],
   "source": [
    "plt.figure(figsize=(15,5))\n",
    "sns.distplot(data['Loss_Days_Since_Policy_First_Taken'],kde=False)\n",
    "plt.show()"
   ]
  },
  {
   "cell_type": "code",
   "execution_count": 17,
   "metadata": {},
   "outputs": [
    {
     "data": {
      "image/png": "[encoded data removed]",
      "text/plain": [
       "<Figure size 1080x360 with 1 Axes>"
      ]
     },
     "metadata": {
      "needs_background": "light"
     },
     "output_type": "display_data"
    }
   ],
   "source": [
    "plt.figure(figsize=(15,5))\n",
    "sns.distplot(data['Days_Loss_Notice'],kde=False)\n",
    "plt.show()"
   ]
  },
  {
   "cell_type": "code",
   "execution_count": 18,
   "metadata": {},
   "outputs": [
    {
     "data": {
      "image/png": "[encoded data removed]",
      "text/plain": [
       "<Figure size 1080x360 with 1 Axes>"
      ]
     },
     "metadata": {
      "needs_background": "light"
     },
     "output_type": "display_data"
    }
   ],
   "source": [
    "plt.figure(figsize=(15,5))\n",
    "sns.distplot(data['Loss_Days_before_Policy_Termination'],kde=False)\n",
    "plt.show()"
   ]
  },
  {
   "cell_type": "code",
   "execution_count": 19,
   "metadata": {},
   "outputs": [
    {
     "data": {
      "image/png": "[encoded data removed]",
      "text/plain": [
       "<Figure size 1080x360 with 1 Axes>"
      ]
     },
     "metadata": {
      "needs_background": "light"
     },
     "output_type": "display_data"
    }
   ],
   "source": [
    "plt.figure(figsize=(15,5))\n",
    "sns.distplot(data['CLAIM_COUNT'],kde=False)\n",
    "plt.show()"
   ]
  },
  {
   "cell_type": "code",
   "execution_count": 20,
   "metadata": {},
   "outputs": [
    {
     "data": {
      "image/png": "[encoded data removed]",
      "text/plain": [
       "<Figure size 1080x360 with 1 Axes>"
      ]
     },
     "metadata": {
      "needs_background": "light"
     },
     "output_type": "display_data"
    }
   ],
   "source": [
    "plt.figure(figsize=(15,5))\n",
    "sns.distplot(data['Visibility_Score'],kde=False)\n",
    "plt.show()"
   ]
  },
  {
   "cell_type": "markdown",
   "metadata": {},
   "source": [
    "# Categorical data"
   ]
  },
  {
   "cell_type": "code",
   "execution_count": 21,
   "metadata": {},
   "outputs": [
    {
     "name": "stderr",
     "output_type": "stream",
     "text": [
      "C:\\Users\\admin\\anaconda3\\lib\\site-packages\\seaborn\\_decorators.py:36: FutureWarning: Pass the following variable as a keyword arg: x. From version 0.12, the only valid positional argument will be `data`, and passing other arguments without an explicit keyword will result in an error or misinterpretation.\n",
      "  warnings.warn(\n"
     ]
    },
    {
     "data": {
      "image/png": "[encoded data removed]",
      "text/plain": [
       "<Figure size 1080x432 with 1 Axes>"
      ]
     },
     "metadata": {
      "needs_background": "light"
     },
     "output_type": "display_data"
    }
   ],
   "source": [
    "plt.figure(figsize=(15,6))\n",
    "sns.countplot(data['FATAL_INJURY_IN'])\n",
    "plt.show()"
   ]
  },
  {
   "cell_type": "code",
   "execution_count": 22,
   "metadata": {},
   "outputs": [],
   "source": [
    "# Categorical data"
   ]
  },
  {
   "cell_type": "code",
   "execution_count": 23,
   "metadata": {},
   "outputs": [
    {
     "name": "stderr",
     "output_type": "stream",
     "text": [
      "C:\\Users\\admin\\anaconda3\\lib\\site-packages\\seaborn\\_decorators.py:36: FutureWarning: Pass the following variable as a keyword arg: x. From version 0.12, the only valid positional argument will be `data`, and passing other arguments without an explicit keyword will result in an error or misinterpretation.\n",
      "  warnings.warn(\n"
     ]
    },
    {
     "data": {
      "image/png": "[encoded data removed]",
      "text/plain": [
       "<Figure size 1080x432 with 1 Axes>"
      ]
     },
     "metadata": {
      "needs_background": "light"
     },
     "output_type": "display_data"
    }
   ],
   "source": [
    "plt.figure(figsize=(15,6))\n",
    "sns.countplot(data['Third_Party_Flag'])\n",
    "plt.show()"
   ]
  },
  {
   "cell_type": "code",
   "execution_count": 24,
   "metadata": {},
   "outputs": [
    {
     "name": "stderr",
     "output_type": "stream",
     "text": [
      "C:\\Users\\admin\\anaconda3\\lib\\site-packages\\seaborn\\_decorators.py:36: FutureWarning: Pass the following variable as a keyword arg: x. From version 0.12, the only valid positional argument will be `data`, and passing other arguments without an explicit keyword will result in an error or misinterpretation.\n",
      "  warnings.warn(\n"
     ]
    },
    {
     "data": {
      "image/png": "[encoded data removed]",
      "text/plain": [
       "<Figure size 1080x432 with 1 Axes>"
      ]
     },
     "metadata": {
      "needs_background": "light"
     },
     "output_type": "display_data"
    }
   ],
   "source": [
    "plt.figure(figsize=(15,6))\n",
    "sns.countplot(data['FATAL_INJURY_IN'])\n",
    "plt.show()\n"
   ]
  },
  {
   "cell_type": "code",
   "execution_count": 25,
   "metadata": {
    "scrolled": true
   },
   "outputs": [
    {
     "name": "stderr",
     "output_type": "stream",
     "text": [
      "C:\\Users\\admin\\anaconda3\\lib\\site-packages\\seaborn\\_decorators.py:36: FutureWarning: Pass the following variable as a keyword arg: x. From version 0.12, the only valid positional argument will be `data`, and passing other arguments without an explicit keyword will result in an error or misinterpretation.\n",
      "  warnings.warn(\n"
     ]
    },
    {
     "data": {
      "image/png": "[encoded data removed]",
      "text/plain": [
       "<Figure size 1080x432 with 1 Axes>"
      ]
     },
     "metadata": {
      "needs_background": "light"
     },
     "output_type": "display_data"
    }
   ],
   "source": [
    "plt.figure(figsize=(15,6))\n",
    "sns.countplot(data['Fatal_Injury_In_Y'])\n",
    "plt.show()\n"
   ]
  },
  {
   "cell_type": "code",
   "execution_count": 26,
   "metadata": {},
   "outputs": [
    {
     "name": "stderr",
     "output_type": "stream",
     "text": [
      "C:\\Users\\admin\\anaconda3\\lib\\site-packages\\seaborn\\_decorators.py:36: FutureWarning: Pass the following variable as a keyword arg: x. From version 0.12, the only valid positional argument will be `data`, and passing other arguments without an explicit keyword will result in an error or misinterpretation.\n",
      "  warnings.warn(\n"
     ]
    },
    {
     "data": {
      "image/png": "[encoded data removed]",
      "text/plain": [
       "<Figure size 1080x432 with 1 Axes>"
      ]
     },
     "metadata": {
      "needs_background": "light"
     },
     "output_type": "display_data"
    }
   ],
   "source": [
    "plt.figure(figsize=(15,6))\n",
    "sns.countplot(data['Fatal_Injury_In_N'])\n",
    "plt.show()\n"
   ]
  },
  {
   "cell_type": "code",
   "execution_count": 27,
   "metadata": {},
   "outputs": [
    {
     "name": "stderr",
     "output_type": "stream",
     "text": [
      "C:\\Users\\admin\\anaconda3\\lib\\site-packages\\seaborn\\_decorators.py:36: FutureWarning: Pass the following variable as a keyword arg: x. From version 0.12, the only valid positional argument will be `data`, and passing other arguments without an explicit keyword will result in an error or misinterpretation.\n",
      "  warnings.warn(\n"
     ]
    },
    {
     "data": {
      "image/png": "[encoded data removed]",
      "text/plain": [
       "<Figure size 1080x432 with 1 Axes>"
      ]
     },
     "metadata": {
      "needs_background": "light"
     },
     "output_type": "display_data"
    }
   ],
   "source": [
    "plt.figure(figsize=(15,6))\n",
    "sns.countplot(data['Fatal_Injury_In_Space'])\n",
    "plt.show()\n"
   ]
  },
  {
   "cell_type": "code",
   "execution_count": 28,
   "metadata": {},
   "outputs": [
    {
     "name": "stderr",
     "output_type": "stream",
     "text": [
      "C:\\Users\\admin\\anaconda3\\lib\\site-packages\\seaborn\\_decorators.py:36: FutureWarning: Pass the following variable as a keyword arg: x. From version 0.12, the only valid positional argument will be `data`, and passing other arguments without an explicit keyword will result in an error or misinterpretation.\n",
      "  warnings.warn(\n"
     ]
    },
    {
     "data": {
      "image/png": "[encoded data removed]",
      "text/plain": [
       "<Figure size 1080x432 with 1 Axes>"
      ]
     },
     "metadata": {
      "needs_background": "light"
     },
     "output_type": "display_data"
    }
   ],
   "source": [
    "plt.figure(figsize=(15,6))\n",
    "sns.countplot(data['HAS_INJURY_DETAILS'])\n",
    "plt.show()"
   ]
  },
  {
   "cell_type": "code",
   "execution_count": 29,
   "metadata": {},
   "outputs": [
    {
     "name": "stderr",
     "output_type": "stream",
     "text": [
      "C:\\Users\\admin\\anaconda3\\lib\\site-packages\\seaborn\\_decorators.py:36: FutureWarning: Pass the following variable as a keyword arg: x. From version 0.12, the only valid positional argument will be `data`, and passing other arguments without an explicit keyword will result in an error or misinterpretation.\n",
      "  warnings.warn(\n"
     ]
    },
    {
     "data": {
      "image/png": "[encoded data removed]",
      "text/plain": [
       "<Figure size 1080x432 with 1 Axes>"
      ]
     },
     "metadata": {
      "needs_background": "light"
     },
     "output_type": "display_data"
    }
   ],
   "source": [
    "plt.figure(figsize=(15,6))\n",
    "sns.countplot(data['HAS_INJURY_DETAILS_TRUE'])\n",
    "plt.show()"
   ]
  },
  {
   "cell_type": "code",
   "execution_count": 30,
   "metadata": {},
   "outputs": [
    {
     "name": "stderr",
     "output_type": "stream",
     "text": [
      "C:\\Users\\admin\\anaconda3\\lib\\site-packages\\seaborn\\_decorators.py:36: FutureWarning: Pass the following variable as a keyword arg: x. From version 0.12, the only valid positional argument will be `data`, and passing other arguments without an explicit keyword will result in an error or misinterpretation.\n",
      "  warnings.warn(\n"
     ]
    },
    {
     "data": {
      "image/png": "[encoded data removed]",
      "text/plain": [
       "<Figure size 1080x432 with 1 Axes>"
      ]
     },
     "metadata": {
      "needs_background": "light"
     },
     "output_type": "display_data"
    }
   ],
   "source": [
    "plt.figure(figsize=(15,6))\n",
    "sns.countplot(data['HAS_INJURY_DETAILS_FALSE'])\n",
    "plt.show()"
   ]
  },
  {
   "cell_type": "code",
   "execution_count": 31,
   "metadata": {},
   "outputs": [
    {
     "name": "stderr",
     "output_type": "stream",
     "text": [
      "C:\\Users\\admin\\anaconda3\\lib\\site-packages\\seaborn\\_decorators.py:36: FutureWarning: Pass the following variable as a keyword arg: x. From version 0.12, the only valid positional argument will be `data`, and passing other arguments without an explicit keyword will result in an error or misinterpretation.\n",
      "  warnings.warn(\n"
     ]
    },
    {
     "data": {
      "image/png": "[encoded data removed]",
      "text/plain": [
       "<Figure size 1080x432 with 1 Axes>"
      ]
     },
     "metadata": {
      "needs_background": "light"
     },
     "output_type": "display_data"
    }
   ],
   "source": [
    "plt.figure(figsize=(15,6))\n",
    "sns.countplot(data['CLAIM_TYPE'])\n",
    "plt.show()"
   ]
  },
  {
   "cell_type": "code",
   "execution_count": 32,
   "metadata": {},
   "outputs": [
    {
     "name": "stderr",
     "output_type": "stream",
     "text": [
      "C:\\Users\\admin\\anaconda3\\lib\\site-packages\\seaborn\\_decorators.py:36: FutureWarning: Pass the following variable as a keyword arg: x. From version 0.12, the only valid positional argument will be `data`, and passing other arguments without an explicit keyword will result in an error or misinterpretation.\n",
      "  warnings.warn(\n"
     ]
    },
    {
     "data": {
      "image/png": "[encoded data removed]",
      "text/plain": [
       "<Figure size 1440x720 with 1 Axes>"
      ]
     },
     "metadata": {
      "needs_background": "light"
     },
     "output_type": "display_data"
    }
   ],
   "source": [
    "plt.figure(figsize=(20,10))\n",
    "sns.countplot(data['LOSS_LOC_STATE_PROVINCE_NM'])\n",
    "plt.show()"
   ]
  },
  {
   "cell_type": "code",
   "execution_count": 33,
   "metadata": {},
   "outputs": [],
   "source": [
    "# Correlation Heatmap"
   ]
  },
  {
   "cell_type": "code",
   "execution_count": 34,
   "metadata": {},
   "outputs": [
    {
     "data": {
      "image/png": "[encoded data removed]",
      "text/plain": [
       "<Figure size 864x360 with 2 Axes>"
      ]
     },
     "metadata": {
      "needs_background": "light"
     },
     "output_type": "display_data"
    }
   ],
   "source": [
    "plt.figure(figsize=(12,5))\n",
    "sns.heatmap(data.corr(),annot=True)\n",
    "plt.show()"
   ]
  },
  {
   "cell_type": "code",
   "execution_count": 35,
   "metadata": {},
   "outputs": [],
   "source": [
    "#Feature Importance"
   ]
  },
  {
   "cell_type": "code",
   "execution_count": 36,
   "metadata": {},
   "outputs": [],
   "source": [
    "def chi(features, target, df_f):\n",
    "    if(len(features)!=0):\n",
    "            ct=pd.DataFrame(columns = ['category name','chi square value','p value','degrees of freedom'])\n",
    "            for i in features:\n",
    "                for j in target:\n",
    "                    ctz = pd.crosstab(df_f[i],df_f[j])\n",
    "                    chisquare_value,p_value,degrees_of_freedom,_ = stats.chi2_contingency(ctz)\n",
    "                    ct = ct.append({'category name' : i,'chi square value' : chisquare_value,'p value' : p_value,'degrees of freedom' :degrees_of_freedom},ignore_index=True)\n",
    "            print('features with p_value < 0.05')\n",
    "            display(ct[ct[\"p value\"]< 0.05])\n",
    "            ct_ = ct[ct[\"p value\"]< 0.05]\n",
    "            display(ct_.sort_values(by=['p value']))\n",
    "            print('features with p_value between 0.05 and 0.75')\n",
    "            display(ct[(ct[\"p value\"]> 0.05) & (ct[\"p value\"]<0.75)])\n",
    "            ctt = ct[(ct[\"p value\"]> 0.05) & (ct[\"p value\"]<0.75)]\n",
    "            display(ctt.sort_values(by=['p value']))\n",
    "            print('features with p_value > 0.75')\n",
    "            display(ct[ct[\"p value\"]> 0.75])\n",
    "            ctt_ = ct[ct[\"p value\"]> 0.75]\n",
    "            display(ctt_.sort_values(by=['p value']))\n",
    "    else:\n",
    "        print(\"No Categorical predictors found\")"
   ]
  },
  {
   "cell_type": "code",
   "execution_count": 37,
   "metadata": {},
   "outputs": [],
   "source": [
    "cat = ['Third_Party_Flag','FATAL_INJURY_IN','Fatal_Injury_In_Y','Fatal_Injury_In_N','Fatal_Injury_In_Space','HAS_INJURY_DETAILS','HAS_INJURY_DETAILS_TRUE','HAS_INJURY_DETAILS_FALSE','CLAIM_TYPE','LOSS_LOC_STATE_PROVINCE_NM']\n",
    "for col in cat: \n",
    "    data[col] = data[col].astype('category')"
   ]
  },
  {
   "cell_type": "code",
   "execution_count": 38,
   "metadata": {},
   "outputs": [
    {
     "name": "stdout",
     "output_type": "stream",
     "text": [
      "features with p_value < 0.05\n"
     ]
    },
    {
     "data": {
      "text/html": [
       "<div>\n",
       "<style scoped>\n",
       "    .dataframe tbody tr th:only-of-type {\n",
       "        vertical-align: middle;\n",
       "    }\n",
       "\n",
       "    .dataframe tbody tr th {\n",
       "        vertical-align: top;\n",
       "    }\n",
       "\n",
       "    .dataframe thead th {\n",
       "        text-align: right;\n",
       "    }\n",
       "</style>\n",
       "<table border=\"1\" class=\"dataframe\">\n",
       "  <thead>\n",
       "    <tr style=\"text-align: right;\">\n",
       "      <th></th>\n",
       "      <th>category name</th>\n",
       "      <th>chi square value</th>\n",
       "      <th>p value</th>\n",
       "      <th>degrees of freedom</th>\n",
       "    </tr>\n",
       "  </thead>\n",
       "  <tbody>\n",
       "    <tr>\n",
       "      <th>0</th>\n",
       "      <td>Third_Party_Flag</td>\n",
       "      <td>33.389170</td>\n",
       "      <td>7.544292e-09</td>\n",
       "      <td>1</td>\n",
       "    </tr>\n",
       "    <tr>\n",
       "      <th>1</th>\n",
       "      <td>FATAL_INJURY_IN</td>\n",
       "      <td>4.011075</td>\n",
       "      <td>4.520232e-02</td>\n",
       "      <td>1</td>\n",
       "    </tr>\n",
       "    <tr>\n",
       "      <th>2</th>\n",
       "      <td>Fatal_Injury_In_Y</td>\n",
       "      <td>4.011075</td>\n",
       "      <td>4.520232e-02</td>\n",
       "      <td>1</td>\n",
       "    </tr>\n",
       "    <tr>\n",
       "      <th>3</th>\n",
       "      <td>Fatal_Injury_In_N</td>\n",
       "      <td>4.146292</td>\n",
       "      <td>4.172581e-02</td>\n",
       "      <td>1</td>\n",
       "    </tr>\n",
       "    <tr>\n",
       "      <th>8</th>\n",
       "      <td>CLAIM_TYPE</td>\n",
       "      <td>164.800421</td>\n",
       "      <td>2.099120e-28</td>\n",
       "      <td>13</td>\n",
       "    </tr>\n",
       "    <tr>\n",
       "      <th>9</th>\n",
       "      <td>LOSS_LOC_STATE_PROVINCE_NM</td>\n",
       "      <td>133.006291</td>\n",
       "      <td>1.195871e-11</td>\n",
       "      <td>41</td>\n",
       "    </tr>\n",
       "  </tbody>\n",
       "</table>\n",
       "</div>"
      ],
      "text/plain": [
       "                category name  chi square value       p value  \\\n",
       "0            Third_Party_Flag         33.389170  7.544292e-09   \n",
       "1             FATAL_INJURY_IN          4.011075  4.520232e-02   \n",
       "2           Fatal_Injury_In_Y          4.011075  4.520232e-02   \n",
       "3           Fatal_Injury_In_N          4.146292  4.172581e-02   \n",
       "8                  CLAIM_TYPE        164.800421  2.099120e-28   \n",
       "9  LOSS_LOC_STATE_PROVINCE_NM        133.006291  1.195871e-11   \n",
       "\n",
       "  degrees of freedom  \n",
       "0                  1  \n",
       "1                  1  \n",
       "2                  1  \n",
       "3                  1  \n",
       "8                 13  \n",
       "9                 41  "
      ]
     },
     "metadata": {},
     "output_type": "display_data"
    },
    {
     "data": {
      "text/html": [
       "<div>\n",
       "<style scoped>\n",
       "    .dataframe tbody tr th:only-of-type {\n",
       "        vertical-align: middle;\n",
       "    }\n",
       "\n",
       "    .dataframe tbody tr th {\n",
       "        vertical-align: top;\n",
       "    }\n",
       "\n",
       "    .dataframe thead th {\n",
       "        text-align: right;\n",
       "    }\n",
       "</style>\n",
       "<table border=\"1\" class=\"dataframe\">\n",
       "  <thead>\n",
       "    <tr style=\"text-align: right;\">\n",
       "      <th></th>\n",
       "      <th>category name</th>\n",
       "      <th>chi square value</th>\n",
       "      <th>p value</th>\n",
       "      <th>degrees of freedom</th>\n",
       "    </tr>\n",
       "  </thead>\n",
       "  <tbody>\n",
       "    <tr>\n",
       "      <th>8</th>\n",
       "      <td>CLAIM_TYPE</td>\n",
       "      <td>164.800421</td>\n",
       "      <td>2.099120e-28</td>\n",
       "      <td>13</td>\n",
       "    </tr>\n",
       "    <tr>\n",
       "      <th>9</th>\n",
       "      <td>LOSS_LOC_STATE_PROVINCE_NM</td>\n",
       "      <td>133.006291</td>\n",
       "      <td>1.195871e-11</td>\n",
       "      <td>41</td>\n",
       "    </tr>\n",
       "    <tr>\n",
       "      <th>0</th>\n",
       "      <td>Third_Party_Flag</td>\n",
       "      <td>33.389170</td>\n",
       "      <td>7.544292e-09</td>\n",
       "      <td>1</td>\n",
       "    </tr>\n",
       "    <tr>\n",
       "      <th>3</th>\n",
       "      <td>Fatal_Injury_In_N</td>\n",
       "      <td>4.146292</td>\n",
       "      <td>4.172581e-02</td>\n",
       "      <td>1</td>\n",
       "    </tr>\n",
       "    <tr>\n",
       "      <th>1</th>\n",
       "      <td>FATAL_INJURY_IN</td>\n",
       "      <td>4.011075</td>\n",
       "      <td>4.520232e-02</td>\n",
       "      <td>1</td>\n",
       "    </tr>\n",
       "    <tr>\n",
       "      <th>2</th>\n",
       "      <td>Fatal_Injury_In_Y</td>\n",
       "      <td>4.011075</td>\n",
       "      <td>4.520232e-02</td>\n",
       "      <td>1</td>\n",
       "    </tr>\n",
       "  </tbody>\n",
       "</table>\n",
       "</div>"
      ],
      "text/plain": [
       "                category name  chi square value       p value  \\\n",
       "8                  CLAIM_TYPE        164.800421  2.099120e-28   \n",
       "9  LOSS_LOC_STATE_PROVINCE_NM        133.006291  1.195871e-11   \n",
       "0            Third_Party_Flag         33.389170  7.544292e-09   \n",
       "3           Fatal_Injury_In_N          4.146292  4.172581e-02   \n",
       "1             FATAL_INJURY_IN          4.011075  4.520232e-02   \n",
       "2           Fatal_Injury_In_Y          4.011075  4.520232e-02   \n",
       "\n",
       "  degrees of freedom  \n",
       "8                 13  \n",
       "9                 41  \n",
       "0                  1  \n",
       "3                  1  \n",
       "1                  1  \n",
       "2                  1  "
      ]
     },
     "metadata": {},
     "output_type": "display_data"
    },
    {
     "name": "stdout",
     "output_type": "stream",
     "text": [
      "features with p_value between 0.05 and 0.75\n"
     ]
    },
    {
     "data": {
      "text/html": [
       "<div>\n",
       "<style scoped>\n",
       "    .dataframe tbody tr th:only-of-type {\n",
       "        vertical-align: middle;\n",
       "    }\n",
       "\n",
       "    .dataframe tbody tr th {\n",
       "        vertical-align: top;\n",
       "    }\n",
       "\n",
       "    .dataframe thead th {\n",
       "        text-align: right;\n",
       "    }\n",
       "</style>\n",
       "<table border=\"1\" class=\"dataframe\">\n",
       "  <thead>\n",
       "    <tr style=\"text-align: right;\">\n",
       "      <th></th>\n",
       "      <th>category name</th>\n",
       "      <th>chi square value</th>\n",
       "      <th>p value</th>\n",
       "      <th>degrees of freedom</th>\n",
       "    </tr>\n",
       "  </thead>\n",
       "  <tbody>\n",
       "    <tr>\n",
       "      <th>4</th>\n",
       "      <td>Fatal_Injury_In_Space</td>\n",
       "      <td>1.928914</td>\n",
       "      <td>0.164877</td>\n",
       "      <td>1</td>\n",
       "    </tr>\n",
       "    <tr>\n",
       "      <th>5</th>\n",
       "      <td>HAS_INJURY_DETAILS</td>\n",
       "      <td>0.325203</td>\n",
       "      <td>0.568498</td>\n",
       "      <td>1</td>\n",
       "    </tr>\n",
       "    <tr>\n",
       "      <th>6</th>\n",
       "      <td>HAS_INJURY_DETAILS_TRUE</td>\n",
       "      <td>0.155538</td>\n",
       "      <td>0.693298</td>\n",
       "      <td>1</td>\n",
       "    </tr>\n",
       "    <tr>\n",
       "      <th>7</th>\n",
       "      <td>HAS_INJURY_DETAILS_FALSE</td>\n",
       "      <td>0.325203</td>\n",
       "      <td>0.568498</td>\n",
       "      <td>1</td>\n",
       "    </tr>\n",
       "  </tbody>\n",
       "</table>\n",
       "</div>"
      ],
      "text/plain": [
       "              category name  chi square value   p value degrees of freedom\n",
       "4     Fatal_Injury_In_Space          1.928914  0.164877                  1\n",
       "5        HAS_INJURY_DETAILS          0.325203  0.568498                  1\n",
       "6   HAS_INJURY_DETAILS_TRUE          0.155538  0.693298                  1\n",
       "7  HAS_INJURY_DETAILS_FALSE          0.325203  0.568498                  1"
      ]
     },
     "metadata": {},
     "output_type": "display_data"
    },
    {
     "data": {
      "text/html": [
       "<div>\n",
       "<style scoped>\n",
       "    .dataframe tbody tr th:only-of-type {\n",
       "        vertical-align: middle;\n",
       "    }\n",
       "\n",
       "    .dataframe tbody tr th {\n",
       "        vertical-align: top;\n",
       "    }\n",
       "\n",
       "    .dataframe thead th {\n",
       "        text-align: right;\n",
       "    }\n",
       "</style>\n",
       "<table border=\"1\" class=\"dataframe\">\n",
       "  <thead>\n",
       "    <tr style=\"text-align: right;\">\n",
       "      <th></th>\n",
       "      <th>category name</th>\n",
       "      <th>chi square value</th>\n",
       "      <th>p value</th>\n",
       "      <th>degrees of freedom</th>\n",
       "    </tr>\n",
       "  </thead>\n",
       "  <tbody>\n",
       "    <tr>\n",
       "      <th>4</th>\n",
       "      <td>Fatal_Injury_In_Space</td>\n",
       "      <td>1.928914</td>\n",
       "      <td>0.164877</td>\n",
       "      <td>1</td>\n",
       "    </tr>\n",
       "    <tr>\n",
       "      <th>5</th>\n",
       "      <td>HAS_INJURY_DETAILS</td>\n",
       "      <td>0.325203</td>\n",
       "      <td>0.568498</td>\n",
       "      <td>1</td>\n",
       "    </tr>\n",
       "    <tr>\n",
       "      <th>7</th>\n",
       "      <td>HAS_INJURY_DETAILS_FALSE</td>\n",
       "      <td>0.325203</td>\n",
       "      <td>0.568498</td>\n",
       "      <td>1</td>\n",
       "    </tr>\n",
       "    <tr>\n",
       "      <th>6</th>\n",
       "      <td>HAS_INJURY_DETAILS_TRUE</td>\n",
       "      <td>0.155538</td>\n",
       "      <td>0.693298</td>\n",
       "      <td>1</td>\n",
       "    </tr>\n",
       "  </tbody>\n",
       "</table>\n",
       "</div>"
      ],
      "text/plain": [
       "              category name  chi square value   p value degrees of freedom\n",
       "4     Fatal_Injury_In_Space          1.928914  0.164877                  1\n",
       "5        HAS_INJURY_DETAILS          0.325203  0.568498                  1\n",
       "7  HAS_INJURY_DETAILS_FALSE          0.325203  0.568498                  1\n",
       "6   HAS_INJURY_DETAILS_TRUE          0.155538  0.693298                  1"
      ]
     },
     "metadata": {},
     "output_type": "display_data"
    },
    {
     "name": "stdout",
     "output_type": "stream",
     "text": [
      "features with p_value > 0.75\n"
     ]
    },
    {
     "data": {
      "text/html": [
       "<div>\n",
       "<style scoped>\n",
       "    .dataframe tbody tr th:only-of-type {\n",
       "        vertical-align: middle;\n",
       "    }\n",
       "\n",
       "    .dataframe tbody tr th {\n",
       "        vertical-align: top;\n",
       "    }\n",
       "\n",
       "    .dataframe thead th {\n",
       "        text-align: right;\n",
       "    }\n",
       "</style>\n",
       "<table border=\"1\" class=\"dataframe\">\n",
       "  <thead>\n",
       "    <tr style=\"text-align: right;\">\n",
       "      <th></th>\n",
       "      <th>category name</th>\n",
       "      <th>chi square value</th>\n",
       "      <th>p value</th>\n",
       "      <th>degrees of freedom</th>\n",
       "    </tr>\n",
       "  </thead>\n",
       "  <tbody>\n",
       "  </tbody>\n",
       "</table>\n",
       "</div>"
      ],
      "text/plain": [
       "Empty DataFrame\n",
       "Columns: [category name, chi square value, p value, degrees of freedom]\n",
       "Index: []"
      ]
     },
     "metadata": {},
     "output_type": "display_data"
    },
    {
     "data": {
      "text/html": [
       "<div>\n",
       "<style scoped>\n",
       "    .dataframe tbody tr th:only-of-type {\n",
       "        vertical-align: middle;\n",
       "    }\n",
       "\n",
       "    .dataframe tbody tr th {\n",
       "        vertical-align: top;\n",
       "    }\n",
       "\n",
       "    .dataframe thead th {\n",
       "        text-align: right;\n",
       "    }\n",
       "</style>\n",
       "<table border=\"1\" class=\"dataframe\">\n",
       "  <thead>\n",
       "    <tr style=\"text-align: right;\">\n",
       "      <th></th>\n",
       "      <th>category name</th>\n",
       "      <th>chi square value</th>\n",
       "      <th>p value</th>\n",
       "      <th>degrees of freedom</th>\n",
       "    </tr>\n",
       "  </thead>\n",
       "  <tbody>\n",
       "  </tbody>\n",
       "</table>\n",
       "</div>"
      ],
      "text/plain": [
       "Empty DataFrame\n",
       "Columns: [category name, chi square value, p value, degrees of freedom]\n",
       "Index: []"
      ]
     },
     "metadata": {},
     "output_type": "display_data"
    }
   ],
   "source": [
    "chi(cat, ['Fraud'], data)"
   ]
  },
  {
   "cell_type": "markdown",
   "metadata": {},
   "source": [
    "# Scaling and Spliiting the Dataset with Training and Testing"
   ]
  },
  {
   "cell_type": "code",
   "execution_count": 39,
   "metadata": {},
   "outputs": [],
   "source": [
    "from sklearn.preprocessing import MinMaxScaler\n",
    "scaler = MinMaxScaler()"
   ]
  },
  {
   "cell_type": "code",
   "execution_count": 40,
   "metadata": {},
   "outputs": [],
   "source": [
    "#Target Variable\n",
    "y = data['Fraud']"
   ]
  },
  {
   "cell_type": "code",
   "execution_count": 41,
   "metadata": {},
   "outputs": [],
   "source": [
    "data_ = data.drop(labels = ['Fraud','CLAIM_NO'],axis=1)"
   ]
  },
  {
   "cell_type": "code",
   "execution_count": 42,
   "metadata": {},
   "outputs": [],
   "source": [
    "#one hot encoding for categorical values\n",
    "X = pd.get_dummies(data_, drop_first=True)"
   ]
  },
  {
   "cell_type": "code",
   "execution_count": 43,
   "metadata": {},
   "outputs": [],
   "source": [
    "# applying minmax scalar for independent variables\n",
    "x_tmp = scaler.fit_transform(X)"
   ]
  },
  {
   "cell_type": "code",
   "execution_count": 44,
   "metadata": {},
   "outputs": [
    {
     "data": {
      "text/html": [
       "<div>\n",
       "<style scoped>\n",
       "    .dataframe tbody tr th:only-of-type {\n",
       "        vertical-align: middle;\n",
       "    }\n",
       "\n",
       "    .dataframe tbody tr th {\n",
       "        vertical-align: top;\n",
       "    }\n",
       "\n",
       "    .dataframe thead th {\n",
       "        text-align: right;\n",
       "    }\n",
       "</style>\n",
       "<table border=\"1\" class=\"dataframe\">\n",
       "  <thead>\n",
       "    <tr style=\"text-align: right;\">\n",
       "      <th></th>\n",
       "      <th>INDEMNITY_PAID_TO_DATE_USD_AM</th>\n",
       "      <th>EXPENSE_PAID_TO_DATE_USD</th>\n",
       "      <th>Economic_Loss_Flag</th>\n",
       "      <th>Loss_Days_Since_Policy_First_Taken</th>\n",
       "      <th>Days_Loss_Notice</th>\n",
       "      <th>Loss_Days_before_Policy_Termination</th>\n",
       "      <th>CLAIM_COUNT</th>\n",
       "      <th>Visibility_Score</th>\n",
       "      <th>Third_Party_Flag_1</th>\n",
       "      <th>FATAL_INJURY_IN_Y</th>\n",
       "      <th>...</th>\n",
       "      <th>LOSS_LOC_STATE_PROVINCE_NM_Puerto Rico</th>\n",
       "      <th>LOSS_LOC_STATE_PROVINCE_NM_Rhode Island</th>\n",
       "      <th>LOSS_LOC_STATE_PROVINCE_NM_South Carolina</th>\n",
       "      <th>LOSS_LOC_STATE_PROVINCE_NM_South Dakota</th>\n",
       "      <th>LOSS_LOC_STATE_PROVINCE_NM_Tennessee</th>\n",
       "      <th>LOSS_LOC_STATE_PROVINCE_NM_Texas</th>\n",
       "      <th>LOSS_LOC_STATE_PROVINCE_NM_Vermont</th>\n",
       "      <th>LOSS_LOC_STATE_PROVINCE_NM_Washington</th>\n",
       "      <th>LOSS_LOC_STATE_PROVINCE_NM_West Virginia</th>\n",
       "      <th>LOSS_LOC_STATE_PROVINCE_NM_Wisconsin</th>\n",
       "    </tr>\n",
       "  </thead>\n",
       "  <tbody>\n",
       "    <tr>\n",
       "      <th>0</th>\n",
       "      <td>0.0</td>\n",
       "      <td>0.000000</td>\n",
       "      <td>0.0</td>\n",
       "      <td>0.447117</td>\n",
       "      <td>0.000063</td>\n",
       "      <td>0.000000</td>\n",
       "      <td>0.004353</td>\n",
       "      <td>1.0</td>\n",
       "      <td>1.0</td>\n",
       "      <td>1.0</td>\n",
       "      <td>...</td>\n",
       "      <td>0.0</td>\n",
       "      <td>0.0</td>\n",
       "      <td>0.0</td>\n",
       "      <td>0.0</td>\n",
       "      <td>0.0</td>\n",
       "      <td>0.0</td>\n",
       "      <td>0.0</td>\n",
       "      <td>0.0</td>\n",
       "      <td>0.0</td>\n",
       "      <td>0.0</td>\n",
       "    </tr>\n",
       "    <tr>\n",
       "      <th>1</th>\n",
       "      <td>0.0</td>\n",
       "      <td>0.008413</td>\n",
       "      <td>0.0</td>\n",
       "      <td>0.036564</td>\n",
       "      <td>0.047607</td>\n",
       "      <td>0.271016</td>\n",
       "      <td>0.000000</td>\n",
       "      <td>1.0</td>\n",
       "      <td>0.0</td>\n",
       "      <td>0.0</td>\n",
       "      <td>...</td>\n",
       "      <td>0.0</td>\n",
       "      <td>0.0</td>\n",
       "      <td>0.0</td>\n",
       "      <td>0.0</td>\n",
       "      <td>0.0</td>\n",
       "      <td>0.0</td>\n",
       "      <td>0.0</td>\n",
       "      <td>0.0</td>\n",
       "      <td>0.0</td>\n",
       "      <td>0.0</td>\n",
       "    </tr>\n",
       "    <tr>\n",
       "      <th>2</th>\n",
       "      <td>0.0</td>\n",
       "      <td>0.000000</td>\n",
       "      <td>0.0</td>\n",
       "      <td>0.447117</td>\n",
       "      <td>0.000063</td>\n",
       "      <td>0.000000</td>\n",
       "      <td>0.000000</td>\n",
       "      <td>1.0</td>\n",
       "      <td>1.0</td>\n",
       "      <td>0.0</td>\n",
       "      <td>...</td>\n",
       "      <td>0.0</td>\n",
       "      <td>0.0</td>\n",
       "      <td>0.0</td>\n",
       "      <td>0.0</td>\n",
       "      <td>0.0</td>\n",
       "      <td>0.0</td>\n",
       "      <td>0.0</td>\n",
       "      <td>0.0</td>\n",
       "      <td>0.0</td>\n",
       "      <td>0.0</td>\n",
       "    </tr>\n",
       "    <tr>\n",
       "      <th>3</th>\n",
       "      <td>0.0</td>\n",
       "      <td>0.024036</td>\n",
       "      <td>0.0</td>\n",
       "      <td>0.282945</td>\n",
       "      <td>0.064804</td>\n",
       "      <td>0.422836</td>\n",
       "      <td>0.001536</td>\n",
       "      <td>1.0</td>\n",
       "      <td>1.0</td>\n",
       "      <td>0.0</td>\n",
       "      <td>...</td>\n",
       "      <td>0.0</td>\n",
       "      <td>0.0</td>\n",
       "      <td>0.0</td>\n",
       "      <td>0.0</td>\n",
       "      <td>0.0</td>\n",
       "      <td>0.0</td>\n",
       "      <td>0.0</td>\n",
       "      <td>0.0</td>\n",
       "      <td>0.0</td>\n",
       "      <td>0.0</td>\n",
       "    </tr>\n",
       "    <tr>\n",
       "      <th>4</th>\n",
       "      <td>0.0</td>\n",
       "      <td>0.000000</td>\n",
       "      <td>0.0</td>\n",
       "      <td>0.024785</td>\n",
       "      <td>0.003477</td>\n",
       "      <td>0.329987</td>\n",
       "      <td>0.013956</td>\n",
       "      <td>0.0</td>\n",
       "      <td>1.0</td>\n",
       "      <td>0.0</td>\n",
       "      <td>...</td>\n",
       "      <td>0.0</td>\n",
       "      <td>0.0</td>\n",
       "      <td>0.0</td>\n",
       "      <td>0.0</td>\n",
       "      <td>0.0</td>\n",
       "      <td>0.0</td>\n",
       "      <td>0.0</td>\n",
       "      <td>0.0</td>\n",
       "      <td>1.0</td>\n",
       "      <td>0.0</td>\n",
       "    </tr>\n",
       "  </tbody>\n",
       "</table>\n",
       "<p>5 rows × 70 columns</p>\n",
       "</div>"
      ],
      "text/plain": [
       "   INDEMNITY_PAID_TO_DATE_USD_AM  EXPENSE_PAID_TO_DATE_USD  \\\n",
       "0                            0.0                  0.000000   \n",
       "1                            0.0                  0.008413   \n",
       "2                            0.0                  0.000000   \n",
       "3                            0.0                  0.024036   \n",
       "4                            0.0                  0.000000   \n",
       "\n",
       "   Economic_Loss_Flag  Loss_Days_Since_Policy_First_Taken  Days_Loss_Notice  \\\n",
       "0                 0.0                            0.447117          0.000063   \n",
       "1                 0.0                            0.036564          0.047607   \n",
       "2                 0.0                            0.447117          0.000063   \n",
       "3                 0.0                            0.282945          0.064804   \n",
       "4                 0.0                            0.024785          0.003477   \n",
       "\n",
       "   Loss_Days_before_Policy_Termination  CLAIM_COUNT  Visibility_Score  \\\n",
       "0                             0.000000     0.004353               1.0   \n",
       "1                             0.271016     0.000000               1.0   \n",
       "2                             0.000000     0.000000               1.0   \n",
       "3                             0.422836     0.001536               1.0   \n",
       "4                             0.329987     0.013956               0.0   \n",
       "\n",
       "   Third_Party_Flag_1  FATAL_INJURY_IN_Y  ...  \\\n",
       "0                 1.0                1.0  ...   \n",
       "1                 0.0                0.0  ...   \n",
       "2                 1.0                0.0  ...   \n",
       "3                 1.0                0.0  ...   \n",
       "4                 1.0                0.0  ...   \n",
       "\n",
       "   LOSS_LOC_STATE_PROVINCE_NM_Puerto Rico  \\\n",
       "0                                     0.0   \n",
       "1                                     0.0   \n",
       "2                                     0.0   \n",
       "3                                     0.0   \n",
       "4                                     0.0   \n",
       "\n",
       "   LOSS_LOC_STATE_PROVINCE_NM_Rhode Island  \\\n",
       "0                                      0.0   \n",
       "1                                      0.0   \n",
       "2                                      0.0   \n",
       "3                                      0.0   \n",
       "4                                      0.0   \n",
       "\n",
       "   LOSS_LOC_STATE_PROVINCE_NM_South Carolina  \\\n",
       "0                                        0.0   \n",
       "1                                        0.0   \n",
       "2                                        0.0   \n",
       "3                                        0.0   \n",
       "4                                        0.0   \n",
       "\n",
       "   LOSS_LOC_STATE_PROVINCE_NM_South Dakota  \\\n",
       "0                                      0.0   \n",
       "1                                      0.0   \n",
       "2                                      0.0   \n",
       "3                                      0.0   \n",
       "4                                      0.0   \n",
       "\n",
       "   LOSS_LOC_STATE_PROVINCE_NM_Tennessee  LOSS_LOC_STATE_PROVINCE_NM_Texas  \\\n",
       "0                                   0.0                               0.0   \n",
       "1                                   0.0                               0.0   \n",
       "2                                   0.0                               0.0   \n",
       "3                                   0.0                               0.0   \n",
       "4                                   0.0                               0.0   \n",
       "\n",
       "   LOSS_LOC_STATE_PROVINCE_NM_Vermont  LOSS_LOC_STATE_PROVINCE_NM_Washington  \\\n",
       "0                                 0.0                                    0.0   \n",
       "1                                 0.0                                    0.0   \n",
       "2                                 0.0                                    0.0   \n",
       "3                                 0.0                                    0.0   \n",
       "4                                 0.0                                    0.0   \n",
       "\n",
       "   LOSS_LOC_STATE_PROVINCE_NM_West Virginia  \\\n",
       "0                                       0.0   \n",
       "1                                       0.0   \n",
       "2                                       0.0   \n",
       "3                                       0.0   \n",
       "4                                       1.0   \n",
       "\n",
       "   LOSS_LOC_STATE_PROVINCE_NM_Wisconsin  \n",
       "0                                   0.0  \n",
       "1                                   0.0  \n",
       "2                                   0.0  \n",
       "3                                   0.0  \n",
       "4                                   0.0  \n",
       "\n",
       "[5 rows x 70 columns]"
      ]
     },
     "execution_count": 44,
     "metadata": {},
     "output_type": "execute_result"
    }
   ],
   "source": [
    "x_scaled = pd.DataFrame(x_tmp, columns=X.columns)\n",
    "x_scaled.head()"
   ]
  },
  {
   "cell_type": "code",
   "execution_count": 45,
   "metadata": {},
   "outputs": [],
   "source": [
    "#splitting the data set for training and testing\n",
    "X_train, X_test, y_train, y_test = train_test_split(x_scaled, y, test_size=0.2)"
   ]
  },
  {
   "cell_type": "markdown",
   "metadata": {},
   "source": [
    "# Model(s) Building / Training and Testing (With Cross Validation)"
   ]
  },
  {
   "cell_type": "code",
   "execution_count": 46,
   "metadata": {},
   "outputs": [],
   "source": [
    "scores = []\n",
    "models = []"
   ]
  },
  {
   "cell_type": "code",
   "execution_count": 47,
   "metadata": {},
   "outputs": [],
   "source": [
    "#function for plotting confusion matrix\n",
    "def plot_cm(y_true, y_pred):\n",
    "    cm =confusion_matrix(y_true, y_pred)\n",
    "    sns.heatmap(cm, annot=True, cmap='Blues')\n",
    "    plt.title('Confusion Matrix')\n",
    "    plt.xlabel(\"y_pred\")\n",
    "    plt.ylabel(\"y_true\")\n",
    "    plt.show()"
   ]
  },
  {
   "cell_type": "code",
   "execution_count": 48,
   "metadata": {},
   "outputs": [],
   "source": [
    "from sklearn.model_selection import cross_val_score\n",
    "\n",
    "# function to print cross k-fold cross validation scores, their mean and variance(standard deviation)\n",
    "def print_scores(model, x_train, y_train, cv, scoring):\n",
    "    print('Cross validation scores:', cross_val_score(model, x_train.values, y_train, cv=cv, scoring=scoring, n_jobs=-1) )\n",
    "    print( 'Mean of scores:', np.mean( cross_val_score(model, x_train.values, y_train, cv=cv, scoring=scoring, n_jobs=-1) ) )\n",
    "    print( 'Variance:', np.std( cross_val_score(model, x_train.values, y_train, cv=cv, scoring=scoring, n_jobs=-1) ) )\n",
    "    "
   ]
  },
  {
   "cell_type": "markdown",
   "metadata": {},
   "source": [
    "# LogisticRegression"
   ]
  },
  {
   "cell_type": "code",
   "execution_count": 49,
   "metadata": {},
   "outputs": [],
   "source": [
    "from sklearn.linear_model import LogisticRegression\n",
    "lr = LogisticRegression(random_state=42, n_jobs=-1)"
   ]
  },
  {
   "cell_type": "code",
   "execution_count": 50,
   "metadata": {},
   "outputs": [
    {
     "name": "stdout",
     "output_type": "stream",
     "text": [
      "Cross validation scores: [0.97959184 0.97959184 0.91836735 0.97959184 0.91836735]\n",
      "Mean of scores: 0.9551020408163264\n",
      "Variance: 0.029993751952447058\n"
     ]
    }
   ],
   "source": [
    "print_scores(lr,X_train, y_train, 5, 'accuracy')"
   ]
  },
  {
   "cell_type": "code",
   "execution_count": 51,
   "metadata": {},
   "outputs": [
    {
     "data": {
      "text/plain": [
       "LogisticRegression(n_jobs=-1, random_state=42)"
      ]
     },
     "execution_count": 51,
     "metadata": {},
     "output_type": "execute_result"
    }
   ],
   "source": [
    "lr.fit(X_train.values, y_train)"
   ]
  },
  {
   "cell_type": "code",
   "execution_count": 52,
   "metadata": {},
   "outputs": [],
   "source": [
    "lr_preds = lr.predict(X_test.values)"
   ]
  },
  {
   "cell_type": "code",
   "execution_count": 53,
   "metadata": {},
   "outputs": [],
   "source": [
    "lr_score = accuracy_score(y_test, lr_preds) * 100\n",
    "scores.append(lr_score)\n",
    "models.append('Logistic Regression')"
   ]
  },
  {
   "cell_type": "code",
   "execution_count": 54,
   "metadata": {},
   "outputs": [
    {
     "name": "stdout",
     "output_type": "stream",
     "text": [
      "Logistic Regression  F1 score: 0.8750000000000001\n",
      "Logistic Regression Recall: 0.7777777777777778\n",
      "Logistic Regression Precision: 1.0\n"
     ]
    }
   ],
   "source": [
    "print('Logistic Regression  F1 score:', f1_score(y_test, lr_preds))\n",
    "print('Logistic Regression Recall:', recall_score(y_test, lr_preds))\n",
    "print('Logistic Regression Precision:', precision_score(y_test, lr_preds))"
   ]
  },
  {
   "cell_type": "code",
   "execution_count": 55,
   "metadata": {},
   "outputs": [
    {
     "name": "stdout",
     "output_type": "stream",
     "text": [
      "Logistic Regression Accuracy =  96.7741935483871\n"
     ]
    },
    {
     "data": {
      "image/png": "[encoded data removed]",
      "text/plain": [
       "<Figure size 432x288 with 2 Axes>"
      ]
     },
     "metadata": {
      "needs_background": "light"
     },
     "output_type": "display_data"
    }
   ],
   "source": [
    "print('Logistic Regression Accuracy = ', lr_score)\n",
    "plot_cm(y_test, lr_preds)"
   ]
  },
  {
   "cell_type": "markdown",
   "metadata": {},
   "source": [
    "# Support Vector Machine"
   ]
  },
  {
   "cell_type": "code",
   "execution_count": 56,
   "metadata": {},
   "outputs": [],
   "source": [
    "from sklearn.svm import SVC\n",
    "svc = SVC(random_state=42)"
   ]
  },
  {
   "cell_type": "code",
   "execution_count": 57,
   "metadata": {},
   "outputs": [
    {
     "name": "stdout",
     "output_type": "stream",
     "text": [
      "Cross validation scores: [0.97959184 0.95918367 0.91836735 0.97959184 0.91836735]\n",
      "Mean of scores: 0.9510204081632653\n",
      "Variance: 0.02768297952296026\n"
     ]
    }
   ],
   "source": [
    "print_scores(svc, X_train, y_train, 5, 'accuracy')"
   ]
  },
  {
   "cell_type": "code",
   "execution_count": 58,
   "metadata": {},
   "outputs": [
    {
     "data": {
      "text/plain": [
       "SVC(random_state=42)"
      ]
     },
     "execution_count": 58,
     "metadata": {},
     "output_type": "execute_result"
    }
   ],
   "source": [
    "svc.fit(X_train.values, y_train)"
   ]
  },
  {
   "cell_type": "code",
   "execution_count": 59,
   "metadata": {},
   "outputs": [],
   "source": [
    "svc_preds = svc.predict(X_test.values)"
   ]
  },
  {
   "cell_type": "code",
   "execution_count": 60,
   "metadata": {},
   "outputs": [],
   "source": [
    "svc_score = accuracy_score(y_test, svc_preds) * 100\n",
    "scores.append(svc_score)\n",
    "models.append('Support Vector Classifier')"
   ]
  },
  {
   "cell_type": "code",
   "execution_count": 61,
   "metadata": {},
   "outputs": [
    {
     "name": "stdout",
     "output_type": "stream",
     "text": [
      "Support Vector Classifier  F1 score: 0.8750000000000001\n",
      "Support Vector Classifier Recall: 0.7777777777777778\n",
      "Support Vector Classifier Precision: 1.0\n"
     ]
    }
   ],
   "source": [
    "print('Support Vector Classifier  F1 score:', f1_score(y_test, svc_preds))\n",
    "print('Support Vector Classifier Recall:', recall_score(y_test, svc_preds))\n",
    "print('Support Vector Classifier Precision:', precision_score(y_test, svc_preds))"
   ]
  },
  {
   "cell_type": "code",
   "execution_count": 62,
   "metadata": {},
   "outputs": [
    {
     "name": "stdout",
     "output_type": "stream",
     "text": [
      "Support Vector Classifier Accuracy =  96.7741935483871\n"
     ]
    },
    {
     "data": {
      "image/png": "[encoded data removed]",
      "text/plain": [
       "<Figure size 432x288 with 2 Axes>"
      ]
     },
     "metadata": {
      "needs_background": "light"
     },
     "output_type": "display_data"
    }
   ],
   "source": [
    "print('Support Vector Classifier Accuracy = ', svc_score)\n",
    "plot_cm(y_test, svc_preds)"
   ]
  },
  {
   "cell_type": "markdown",
   "metadata": {},
   "source": [
    "# KNN"
   ]
  },
  {
   "cell_type": "code",
   "execution_count": 63,
   "metadata": {},
   "outputs": [],
   "source": [
    "from sklearn.neighbors import KNeighborsClassifier\n",
    "knn = KNeighborsClassifier(n_neighbors=3, n_jobs=-1)"
   ]
  },
  {
   "cell_type": "code",
   "execution_count": 64,
   "metadata": {},
   "outputs": [
    {
     "name": "stdout",
     "output_type": "stream",
     "text": [
      "Cross validation scores: [0.93877551 0.95918367 0.91836735 0.97959184 0.89795918]\n",
      "Mean of scores: 0.9387755102040817\n",
      "Variance: 0.028861501272920292\n"
     ]
    }
   ],
   "source": [
    "print_scores(knn, X_train, y_train, 5, 'accuracy')"
   ]
  },
  {
   "cell_type": "code",
   "execution_count": 65,
   "metadata": {},
   "outputs": [
    {
     "data": {
      "text/plain": [
       "KNeighborsClassifier(n_jobs=-1, n_neighbors=3)"
      ]
     },
     "execution_count": 65,
     "metadata": {},
     "output_type": "execute_result"
    }
   ],
   "source": [
    "knn.fit(X_train.values, y_train)"
   ]
  },
  {
   "cell_type": "code",
   "execution_count": 66,
   "metadata": {},
   "outputs": [],
   "source": [
    "knn_preds = knn.predict(X_test.values)"
   ]
  },
  {
   "cell_type": "code",
   "execution_count": 67,
   "metadata": {},
   "outputs": [
    {
     "name": "stdout",
     "output_type": "stream",
     "text": [
      "KNeighbors  F1 score: 0.8888888888888888\n",
      "KNeighbors Recall: 0.8888888888888888\n",
      "KNeighbors Precision: 0.8888888888888888\n"
     ]
    }
   ],
   "source": [
    "print('KNeighbors  F1 score:', f1_score(y_test, knn_preds))\n",
    "print('KNeighbors Recall:', recall_score(y_test, knn_preds))\n",
    "print('KNeighbors Precision:', precision_score(y_test, knn_preds))"
   ]
  },
  {
   "cell_type": "code",
   "execution_count": 68,
   "metadata": {},
   "outputs": [],
   "source": [
    "knn_score = accuracy_score(y_test, knn_preds) * 100\n",
    "scores.append(knn_score)\n",
    "models.append('K-Nearest Neighbors Classifier')"
   ]
  },
  {
   "cell_type": "code",
   "execution_count": 69,
   "metadata": {},
   "outputs": [
    {
     "name": "stdout",
     "output_type": "stream",
     "text": [
      "K-Nearest Neighbors Classifier Accuracy =  96.7741935483871\n"
     ]
    },
    {
     "data": {
      "image/png": "[encoded data removed]",
      "text/plain": [
       "<Figure size 432x288 with 2 Axes>"
      ]
     },
     "metadata": {
      "needs_background": "light"
     },
     "output_type": "display_data"
    }
   ],
   "source": [
    "print('K-Nearest Neighbors Classifier Accuracy = ', knn_score)\n",
    "plot_cm(y_test, knn_preds)"
   ]
  },
  {
   "cell_type": "markdown",
   "metadata": {},
   "source": [
    "# Naive Bayes"
   ]
  },
  {
   "cell_type": "code",
   "execution_count": 70,
   "metadata": {},
   "outputs": [],
   "source": [
    "from sklearn.naive_bayes import GaussianNB\n",
    "gnb = GaussianNB()"
   ]
  },
  {
   "cell_type": "code",
   "execution_count": 71,
   "metadata": {},
   "outputs": [
    {
     "name": "stdout",
     "output_type": "stream",
     "text": [
      "Cross validation scores: [0.97959184 0.95918367 0.93877551 1.         0.89795918]\n",
      "Mean of scores: 0.9551020408163264\n",
      "Variance: 0.035111531702214795\n"
     ]
    }
   ],
   "source": [
    "print_scores(gnb, X_train, y_train, 5, 'accuracy')"
   ]
  },
  {
   "cell_type": "code",
   "execution_count": 72,
   "metadata": {},
   "outputs": [
    {
     "data": {
      "text/plain": [
       "GaussianNB()"
      ]
     },
     "execution_count": 72,
     "metadata": {},
     "output_type": "execute_result"
    }
   ],
   "source": [
    "gnb.fit(X_train.values, y_train)"
   ]
  },
  {
   "cell_type": "code",
   "execution_count": 73,
   "metadata": {},
   "outputs": [],
   "source": [
    "gnb_preds = gnb.predict(X_test.values)"
   ]
  },
  {
   "cell_type": "code",
   "execution_count": 74,
   "metadata": {},
   "outputs": [
    {
     "name": "stdout",
     "output_type": "stream",
     "text": [
      "Naive Bayes  F1 score: 0.8571428571428571\n",
      "Naive Bayes Recall: 1.0\n",
      "Naive Bayes Precision: 0.75\n"
     ]
    }
   ],
   "source": [
    "print('Naive Bayes  F1 score:', f1_score(y_test, gnb_preds))\n",
    "print('Naive Bayes Recall:', recall_score(y_test, gnb_preds))\n",
    "print('Naive Bayes Precision:', precision_score(y_test, gnb_preds))"
   ]
  },
  {
   "cell_type": "code",
   "execution_count": 75,
   "metadata": {},
   "outputs": [],
   "source": [
    "gnb_score = accuracy_score(y_test, gnb_preds) * 100\n",
    "scores.append(gnb_score)\n",
    "models.append('Naive Bayes Classifier')"
   ]
  },
  {
   "cell_type": "code",
   "execution_count": 76,
   "metadata": {},
   "outputs": [
    {
     "name": "stdout",
     "output_type": "stream",
     "text": [
      "Naive Bayes Classifier Accuracy =  95.16129032258065\n"
     ]
    },
    {
     "data": {
      "image/png": "[encoded data removed]",
      "text/plain": [
       "<Figure size 432x288 with 2 Axes>"
      ]
     },
     "metadata": {
      "needs_background": "light"
     },
     "output_type": "display_data"
    }
   ],
   "source": [
    "print('Naive Bayes Classifier Accuracy = ', gnb_score)\n",
    "plot_cm(y_test, gnb_preds)"
   ]
  },
  {
   "cell_type": "markdown",
   "metadata": {},
   "source": [
    "# SGDClassifier"
   ]
  },
  {
   "cell_type": "code",
   "execution_count": 77,
   "metadata": {},
   "outputs": [],
   "source": [
    "from sklearn.linear_model import SGDClassifier\n",
    "sgd = SGDClassifier(loss='log', n_jobs=-1, random_state=42)\n"
   ]
  },
  {
   "cell_type": "code",
   "execution_count": 78,
   "metadata": {},
   "outputs": [
    {
     "name": "stdout",
     "output_type": "stream",
     "text": [
      "Cross validation scores: [0.97959184 0.97959184 0.95918367 1.         0.93877551]\n",
      "Mean of scores: 0.9714285714285713\n",
      "Variance: 0.02081232454527666\n"
     ]
    }
   ],
   "source": [
    "print_scores(sgd, X_train, y_train, 5, 'accuracy')"
   ]
  },
  {
   "cell_type": "code",
   "execution_count": 79,
   "metadata": {},
   "outputs": [],
   "source": [
    "sgd.fit(X_train.values, y_train)\n",
    "sgd_preds = sgd.predict(X_test.values)"
   ]
  },
  {
   "cell_type": "code",
   "execution_count": 80,
   "metadata": {},
   "outputs": [],
   "source": [
    "sgd_score = accuracy_score(y_test, sgd_preds) * 100\n",
    "scores.append(sgd_score)\n",
    "models.append('SGD Classifier')"
   ]
  },
  {
   "cell_type": "code",
   "execution_count": 81,
   "metadata": {},
   "outputs": [
    {
     "name": "stdout",
     "output_type": "stream",
     "text": [
      "SGDClassifier  F1 score: 0.7999999999999999\n",
      "SGDClassifier Recall: 0.8888888888888888\n",
      "SGDClassifier Precision: 0.7272727272727273\n"
     ]
    }
   ],
   "source": [
    "print('SGDClassifier  F1 score:', f1_score(y_test, sgd_preds))\n",
    "print('SGDClassifier Recall:', recall_score(y_test, sgd_preds))\n",
    "print('SGDClassifier Precision:', precision_score(y_test, sgd_preds))"
   ]
  },
  {
   "cell_type": "code",
   "execution_count": 82,
   "metadata": {},
   "outputs": [
    {
     "name": "stdout",
     "output_type": "stream",
     "text": [
      "SGD Classifier Accuracy =  93.54838709677419\n"
     ]
    },
    {
     "data": {
      "image/png": "[encoded data removed]",
      "text/plain": [
       "<Figure size 432x288 with 2 Axes>"
      ]
     },
     "metadata": {
      "needs_background": "light"
     },
     "output_type": "display_data"
    }
   ],
   "source": [
    "print('SGD Classifier Accuracy = ', sgd_score)\n",
    "plot_cm(y_test, sgd_preds)\n"
   ]
  },
  {
   "cell_type": "markdown",
   "metadata": {},
   "source": [
    "# DecisionTree"
   ]
  },
  {
   "cell_type": "code",
   "execution_count": 83,
   "metadata": {},
   "outputs": [],
   "source": [
    "from sklearn.tree import DecisionTreeClassifier\n",
    "dt = DecisionTreeClassifier(random_state=42)"
   ]
  },
  {
   "cell_type": "code",
   "execution_count": 84,
   "metadata": {},
   "outputs": [
    {
     "name": "stdout",
     "output_type": "stream",
     "text": [
      "Cross validation scores: [0.97959184 0.97959184 0.95918367 0.95918367 0.93877551]\n",
      "Mean of scores: 0.963265306122449\n",
      "Variance: 0.015272070966424233\n"
     ]
    }
   ],
   "source": [
    "print_scores(dt, X_train, y_train, 5, 'accuracy')"
   ]
  },
  {
   "cell_type": "code",
   "execution_count": 85,
   "metadata": {},
   "outputs": [
    {
     "data": {
      "text/plain": [
       "DecisionTreeClassifier(random_state=42)"
      ]
     },
     "execution_count": 85,
     "metadata": {},
     "output_type": "execute_result"
    }
   ],
   "source": [
    "dt.fit(X_train.values, y_train)"
   ]
  },
  {
   "cell_type": "code",
   "execution_count": 86,
   "metadata": {},
   "outputs": [],
   "source": [
    "dt_preds = dt.predict(X_test.values)"
   ]
  },
  {
   "cell_type": "code",
   "execution_count": 87,
   "metadata": {},
   "outputs": [
    {
     "name": "stdout",
     "output_type": "stream",
     "text": [
      "DecisionTreeClassifier  F1 score: 1.0\n",
      "DecisionTreeClassifier Recall: 1.0\n",
      "DecisionTreeClassifier Precision: 1.0\n"
     ]
    }
   ],
   "source": [
    "print('DecisionTreeClassifier  F1 score:', f1_score(y_test, dt_preds))\n",
    "print('DecisionTreeClassifier Recall:', recall_score(y_test, dt_preds))\n",
    "print('DecisionTreeClassifier Precision:', precision_score(y_test, dt_preds))"
   ]
  },
  {
   "cell_type": "code",
   "execution_count": 88,
   "metadata": {},
   "outputs": [],
   "source": [
    "dt_score = accuracy_score(y_test, dt_preds) * 100\n",
    "scores.append(dt_score)\n",
    "models.append('Decision Tree Classifier')"
   ]
  },
  {
   "cell_type": "code",
   "execution_count": 89,
   "metadata": {},
   "outputs": [
    {
     "name": "stdout",
     "output_type": "stream",
     "text": [
      "Decision Tree Classifier Accuracy =  100.0\n"
     ]
    },
    {
     "data": {
      "image/png": "[encoded data removed]",
      "text/plain": [
       "<Figure size 432x288 with 2 Axes>"
      ]
     },
     "metadata": {
      "needs_background": "light"
     },
     "output_type": "display_data"
    }
   ],
   "source": [
    "print('Decision Tree Classifier Accuracy = ', dt_score)\n",
    "plot_cm(y_test, dt_preds)"
   ]
  },
  {
   "cell_type": "markdown",
   "metadata": {},
   "source": [
    "# RandomForest"
   ]
  },
  {
   "cell_type": "code",
   "execution_count": 90,
   "metadata": {},
   "outputs": [],
   "source": [
    "from sklearn.ensemble import RandomForestClassifier\n",
    "rf = RandomForestClassifier(random_state=42, n_jobs=-1)"
   ]
  },
  {
   "cell_type": "code",
   "execution_count": 91,
   "metadata": {},
   "outputs": [
    {
     "name": "stdout",
     "output_type": "stream",
     "text": [
      "Cross validation scores: [0.97959184 0.97959184 0.93877551 1.         0.93877551]\n",
      "Mean of scores: 0.9673469387755101\n",
      "Variance: 0.02448979591836732\n"
     ]
    }
   ],
   "source": [
    "print_scores(rf, X_train, y_train, 5, 'accuracy')"
   ]
  },
  {
   "cell_type": "code",
   "execution_count": 92,
   "metadata": {},
   "outputs": [],
   "source": [
    "rf.fit(X_train, y_train)\n",
    "rf_preds = rf.predict(X_test)"
   ]
  },
  {
   "cell_type": "code",
   "execution_count": 93,
   "metadata": {},
   "outputs": [
    {
     "name": "stdout",
     "output_type": "stream",
     "text": [
      "RandomForestClassifier  F1 score: 0.9411764705882353\n",
      "RandomForestClassifier Recall: 0.8888888888888888\n",
      "RandomForestClassifier Precision: 1.0\n"
     ]
    }
   ],
   "source": [
    "print('RandomForestClassifier  F1 score:', f1_score(y_test, rf_preds))\n",
    "print('RandomForestClassifier Recall:', recall_score(y_test, rf_preds))\n",
    "print('RandomForestClassifier Precision:', precision_score(y_test, rf_preds))"
   ]
  },
  {
   "cell_type": "code",
   "execution_count": 94,
   "metadata": {},
   "outputs": [],
   "source": [
    "rf_score = accuracy_score(y_test, rf_preds) * 100\n",
    "scores.append(rf_score)\n",
    "models.append('Random Forest Classifier')"
   ]
  },
  {
   "cell_type": "code",
   "execution_count": 95,
   "metadata": {},
   "outputs": [
    {
     "name": "stdout",
     "output_type": "stream",
     "text": [
      "Random Forest Classifier Accuracy =  98.38709677419355\n"
     ]
    },
    {
     "data": {
      "image/png": "[encoded data removed]",
      "text/plain": [
       "<Figure size 432x288 with 2 Axes>"
      ]
     },
     "metadata": {
      "needs_background": "light"
     },
     "output_type": "display_data"
    }
   ],
   "source": [
    "print('Random Forest Classifier Accuracy = ', rf_score)\n",
    "plot_cm(y_test, rf_preds)"
   ]
  },
  {
   "cell_type": "markdown",
   "metadata": {},
   "source": [
    "# XGBOOST"
   ]
  },
  {
   "cell_type": "code",
   "execution_count": 96,
   "metadata": {},
   "outputs": [],
   "source": [
    "xg = XGBClassifier(n_estimators=500, random_state=42)"
   ]
  },
  {
   "cell_type": "code",
   "execution_count": 97,
   "metadata": {},
   "outputs": [
    {
     "name": "stdout",
     "output_type": "stream",
     "text": [
      "Cross validation scores: [0.97959184 0.97959184 0.95918367 1.         0.93877551]\n",
      "Mean of scores: 0.9714285714285713\n",
      "Variance: 0.02081232454527666\n"
     ]
    }
   ],
   "source": [
    "print_scores(xg, X_train, y_train, 5, 'accuracy')"
   ]
  },
  {
   "cell_type": "code",
   "execution_count": 98,
   "metadata": {},
   "outputs": [
    {
     "name": "stdout",
     "output_type": "stream",
     "text": [
      "[15:31:40] WARNING: C:/Users/Administrator/workspace/xgboost-win64_release_1.4.0/src/learner.cc:1095: Starting in XGBoost 1.3.0, the default evaluation metric used with the objective 'binary:logistic' was changed from 'error' to 'logloss'. Explicitly set eval_metric if you'd like to restore the old behavior.\n"
     ]
    },
    {
     "name": "stderr",
     "output_type": "stream",
     "text": [
      "C:\\Users\\admin\\anaconda3\\lib\\site-packages\\xgboost\\sklearn.py:1146: UserWarning: The use of label encoder in XGBClassifier is deprecated and will be removed in a future release. To remove this warning, do the following: 1) Pass option use_label_encoder=False when constructing XGBClassifier object; and 2) Encode your labels (y) as integers starting with 0, i.e. 0, 1, 2, ..., [num_class - 1].\n",
      "  warnings.warn(label_encoder_deprecation_msg, UserWarning)\n"
     ]
    }
   ],
   "source": [
    "xg.fit(X_train, y_train)\n",
    "xg_preds = xg.predict(X_test)"
   ]
  },
  {
   "cell_type": "code",
   "execution_count": 99,
   "metadata": {},
   "outputs": [
    {
     "name": "stdout",
     "output_type": "stream",
     "text": [
      "XG  F1 score: 0.9411764705882353\n",
      "XG Recall: 0.8888888888888888\n",
      "XG Precision: 1.0\n"
     ]
    }
   ],
   "source": [
    "print('XG  F1 score:', f1_score(y_test, xg_preds))\n",
    "print('XG Recall:', recall_score(y_test, xg_preds))\n",
    "print('XG Precision:', precision_score(y_test, xg_preds))"
   ]
  },
  {
   "cell_type": "code",
   "execution_count": 100,
   "metadata": {},
   "outputs": [],
   "source": [
    "xg_score = accuracy_score(y_test, xg_preds) * 100\n",
    "scores.append(xg_score)\n",
    "models.append('XGboost')"
   ]
  },
  {
   "cell_type": "code",
   "execution_count": 101,
   "metadata": {},
   "outputs": [
    {
     "name": "stdout",
     "output_type": "stream",
     "text": [
      "XG Classifier Accuracy =  98.38709677419355\n"
     ]
    },
    {
     "data": {
      "image/png": "[encoded data removed]",
      "text/plain": [
       "<Figure size 432x288 with 2 Axes>"
      ]
     },
     "metadata": {
      "needs_background": "light"
     },
     "output_type": "display_data"
    }
   ],
   "source": [
    "print('XG Classifier Accuracy = ', xg_score)\n",
    "plot_cm(y_test, rf_preds)"
   ]
  },
  {
   "cell_type": "markdown",
   "metadata": {},
   "source": [
    "# Accuracy Comparision"
   ]
  },
  {
   "cell_type": "code",
   "execution_count": 102,
   "metadata": {},
   "outputs": [
    {
     "data": {
      "image/png": "[encoded data removed]",
      "text/plain": [
       "<Figure size 1440x576 with 1 Axes>"
      ]
     },
     "metadata": {
      "needs_background": "light"
     },
     "output_type": "display_data"
    }
   ],
   "source": [
    "plt.figure(figsize=(20,8))\n",
    "ax = sns.barplot(x=models, y=scores)\n",
    "ax.set_title('Classification Accuracy Comparison of Models', fontsize=20)\n",
    "for item in ax.get_xticklabels():\n",
    "    item.set_rotation(45)\n",
    "for p in ax.patches:\n",
    "        ax.annotate('{:}%'.format(p.get_height()), (p.get_x()+0.15, p.get_height()+1))"
   ]
  },
  {
   "cell_type": "markdown",
   "metadata": {},
   "source": [
    "# Finalizing the model"
   ]
  },
  {
   "cell_type": "code",
   "execution_count": 103,
   "metadata": {},
   "outputs": [],
   "source": [
    "df1=pd.read_excel(\"Validation_Data_Set.xlsx\")"
   ]
  },
  {
   "cell_type": "code",
   "execution_count": 104,
   "metadata": {},
   "outputs": [],
   "source": [
    "df1.columns = data.columns.str.replace(' ','_')"
   ]
  },
  {
   "cell_type": "code",
   "execution_count": 105,
   "metadata": {},
   "outputs": [
    {
     "data": {
      "text/plain": [
       "(323, 20)"
      ]
     },
     "execution_count": 105,
     "metadata": {},
     "output_type": "execute_result"
    }
   ],
   "source": [
    "df1.shape"
   ]
  },
  {
   "cell_type": "code",
   "execution_count": 106,
   "metadata": {},
   "outputs": [
    {
     "data": {
      "text/html": [
       "<div>\n",
       "<style scoped>\n",
       "    .dataframe tbody tr th:only-of-type {\n",
       "        vertical-align: middle;\n",
       "    }\n",
       "\n",
       "    .dataframe tbody tr th {\n",
       "        vertical-align: top;\n",
       "    }\n",
       "\n",
       "    .dataframe thead th {\n",
       "        text-align: right;\n",
       "    }\n",
       "</style>\n",
       "<table border=\"1\" class=\"dataframe\">\n",
       "  <thead>\n",
       "    <tr style=\"text-align: right;\">\n",
       "      <th></th>\n",
       "      <th>column_name</th>\n",
       "      <th>percent_missing</th>\n",
       "    </tr>\n",
       "  </thead>\n",
       "  <tbody>\n",
       "    <tr>\n",
       "      <th>CLAIM_NO</th>\n",
       "      <td>CLAIM_NO</td>\n",
       "      <td>0.000000</td>\n",
       "    </tr>\n",
       "    <tr>\n",
       "      <th>INDEMNITY_PAID_TO_DATE_USD_AM</th>\n",
       "      <td>INDEMNITY_PAID_TO_DATE_USD_AM</td>\n",
       "      <td>0.000000</td>\n",
       "    </tr>\n",
       "    <tr>\n",
       "      <th>EXPENSE_PAID_TO_DATE_USD</th>\n",
       "      <td>EXPENSE_PAID_TO_DATE_USD</td>\n",
       "      <td>0.000000</td>\n",
       "    </tr>\n",
       "    <tr>\n",
       "      <th>Third_Party_Flag</th>\n",
       "      <td>Third_Party_Flag</td>\n",
       "      <td>0.000000</td>\n",
       "    </tr>\n",
       "    <tr>\n",
       "      <th>Economic_Loss_Flag</th>\n",
       "      <td>Economic_Loss_Flag</td>\n",
       "      <td>0.000000</td>\n",
       "    </tr>\n",
       "    <tr>\n",
       "      <th>FATAL_INJURY_IN</th>\n",
       "      <td>FATAL_INJURY_IN</td>\n",
       "      <td>0.651466</td>\n",
       "    </tr>\n",
       "    <tr>\n",
       "      <th>Fatal_Injury_In_Y</th>\n",
       "      <td>Fatal_Injury_In_Y</td>\n",
       "      <td>0.000000</td>\n",
       "    </tr>\n",
       "    <tr>\n",
       "      <th>Fatal_Injury_In_N</th>\n",
       "      <td>Fatal_Injury_In_N</td>\n",
       "      <td>0.000000</td>\n",
       "    </tr>\n",
       "    <tr>\n",
       "      <th>Fatal_Injury_In_Space</th>\n",
       "      <td>Fatal_Injury_In_Space</td>\n",
       "      <td>0.000000</td>\n",
       "    </tr>\n",
       "    <tr>\n",
       "      <th>HAS_INJURY_DETAILS</th>\n",
       "      <td>HAS_INJURY_DETAILS</td>\n",
       "      <td>8.143322</td>\n",
       "    </tr>\n",
       "    <tr>\n",
       "      <th>HAS_INJURY_DETAILS_TRUE</th>\n",
       "      <td>HAS_INJURY_DETAILS_TRUE</td>\n",
       "      <td>0.000000</td>\n",
       "    </tr>\n",
       "    <tr>\n",
       "      <th>HAS_INJURY_DETAILS_FALSE</th>\n",
       "      <td>HAS_INJURY_DETAILS_FALSE</td>\n",
       "      <td>0.000000</td>\n",
       "    </tr>\n",
       "    <tr>\n",
       "      <th>CLAIM_TYPE</th>\n",
       "      <td>CLAIM_TYPE</td>\n",
       "      <td>0.000000</td>\n",
       "    </tr>\n",
       "    <tr>\n",
       "      <th>Loss_Days_Since_Policy_First_Taken</th>\n",
       "      <td>Loss_Days_Since_Policy_First_Taken</td>\n",
       "      <td>0.000000</td>\n",
       "    </tr>\n",
       "    <tr>\n",
       "      <th>Days_Loss_Notice</th>\n",
       "      <td>Days_Loss_Notice</td>\n",
       "      <td>0.000000</td>\n",
       "    </tr>\n",
       "    <tr>\n",
       "      <th>Loss_Days_before_Policy_Termination</th>\n",
       "      <td>Loss_Days_before_Policy_Termination</td>\n",
       "      <td>0.000000</td>\n",
       "    </tr>\n",
       "    <tr>\n",
       "      <th>LOSS_LOC_STATE_PROVINCE_NM</th>\n",
       "      <td>LOSS_LOC_STATE_PROVINCE_NM</td>\n",
       "      <td>0.000000</td>\n",
       "    </tr>\n",
       "    <tr>\n",
       "      <th>CLAIM_COUNT</th>\n",
       "      <td>CLAIM_COUNT</td>\n",
       "      <td>0.000000</td>\n",
       "    </tr>\n",
       "    <tr>\n",
       "      <th>Visibility_Score</th>\n",
       "      <td>Visibility_Score</td>\n",
       "      <td>0.000000</td>\n",
       "    </tr>\n",
       "    <tr>\n",
       "      <th>Fraud</th>\n",
       "      <td>Fraud</td>\n",
       "      <td>0.000000</td>\n",
       "    </tr>\n",
       "  </tbody>\n",
       "</table>\n",
       "</div>"
      ],
      "text/plain": [
       "                                                             column_name  \\\n",
       "CLAIM_NO                                                        CLAIM_NO   \n",
       "INDEMNITY_PAID_TO_DATE_USD_AM              INDEMNITY_PAID_TO_DATE_USD_AM   \n",
       "EXPENSE_PAID_TO_DATE_USD                        EXPENSE_PAID_TO_DATE_USD   \n",
       "Third_Party_Flag                                        Third_Party_Flag   \n",
       "Economic_Loss_Flag                                    Economic_Loss_Flag   \n",
       "FATAL_INJURY_IN                                          FATAL_INJURY_IN   \n",
       "Fatal_Injury_In_Y                                      Fatal_Injury_In_Y   \n",
       "Fatal_Injury_In_N                                      Fatal_Injury_In_N   \n",
       "Fatal_Injury_In_Space                              Fatal_Injury_In_Space   \n",
       "HAS_INJURY_DETAILS                                    HAS_INJURY_DETAILS   \n",
       "HAS_INJURY_DETAILS_TRUE                          HAS_INJURY_DETAILS_TRUE   \n",
       "HAS_INJURY_DETAILS_FALSE                        HAS_INJURY_DETAILS_FALSE   \n",
       "CLAIM_TYPE                                                    CLAIM_TYPE   \n",
       "Loss_Days_Since_Policy_First_Taken    Loss_Days_Since_Policy_First_Taken   \n",
       "Days_Loss_Notice                                        Days_Loss_Notice   \n",
       "Loss_Days_before_Policy_Termination  Loss_Days_before_Policy_Termination   \n",
       "LOSS_LOC_STATE_PROVINCE_NM                    LOSS_LOC_STATE_PROVINCE_NM   \n",
       "CLAIM_COUNT                                                  CLAIM_COUNT   \n",
       "Visibility_Score                                        Visibility_Score   \n",
       "Fraud                                                              Fraud   \n",
       "\n",
       "                                     percent_missing  \n",
       "CLAIM_NO                                    0.000000  \n",
       "INDEMNITY_PAID_TO_DATE_USD_AM               0.000000  \n",
       "EXPENSE_PAID_TO_DATE_USD                    0.000000  \n",
       "Third_Party_Flag                            0.000000  \n",
       "Economic_Loss_Flag                          0.000000  \n",
       "FATAL_INJURY_IN                             0.651466  \n",
       "Fatal_Injury_In_Y                           0.000000  \n",
       "Fatal_Injury_In_N                           0.000000  \n",
       "Fatal_Injury_In_Space                       0.000000  \n",
       "HAS_INJURY_DETAILS                          8.143322  \n",
       "HAS_INJURY_DETAILS_TRUE                     0.000000  \n",
       "HAS_INJURY_DETAILS_FALSE                    0.000000  \n",
       "CLAIM_TYPE                                  0.000000  \n",
       "Loss_Days_Since_Policy_First_Taken          0.000000  \n",
       "Days_Loss_Notice                            0.000000  \n",
       "Loss_Days_before_Policy_Termination         0.000000  \n",
       "LOSS_LOC_STATE_PROVINCE_NM                  0.000000  \n",
       "CLAIM_COUNT                                 0.000000  \n",
       "Visibility_Score                            0.000000  \n",
       "Fraud                                       0.000000  "
      ]
     },
     "execution_count": 106,
     "metadata": {},
     "output_type": "execute_result"
    }
   ],
   "source": [
    "percent_missing = df1.isnull().sum() * 100 / len(data)\n",
    "missing_value_df = pd.DataFrame({'column_name': data.columns,\n",
    "                                 'percent_missing': percent_missing})\n",
    "missing_value_df"
   ]
  },
  {
   "cell_type": "code",
   "execution_count": 107,
   "metadata": {},
   "outputs": [],
   "source": [
    "for column in [\"FATAL_INJURY_IN\",\"HAS_INJURY_DETAILS\"]:\n",
    "    impute_nan(df1, column)"
   ]
  },
  {
   "cell_type": "code",
   "execution_count": 108,
   "metadata": {},
   "outputs": [],
   "source": [
    "numerical_values=['INDEMNITY_PAID_TO_DATE_USD_AM','EXPENSE_PAID_TO_DATE_USD','HAS_INJURY_DETAILS']\n",
    "for i in numerical_values:\n",
    "    df1[i]=df1[i].astype(int)\n",
    "\n",
    "cat=['Third_Party_Flag' ,'FATAL_INJURY_IN' ,'Fatal_Injury_In_Y' ,'Fatal_Injury_In_N' ,'Fatal_Injury_In_Space' ,'HAS_INJURY_DETAILS' ,'HAS_INJURY_DETAILS_TRUE' ,'HAS_INJURY_DETAILS_FALSE']\n",
    "for col in cat:\n",
    "    df1[col] = df1[col].astype('category',copy=False)"
   ]
  },
  {
   "cell_type": "code",
   "execution_count": 109,
   "metadata": {},
   "outputs": [],
   "source": [
    "df1['Fraud'] = df1['Fraud'] .map({'Yes': 1, 'No': 0}).astype(int)\n",
    "df1_ = df1.drop(labels = ['Fraud','CLAIM_NO'],axis=1)"
   ]
  },
  {
   "cell_type": "code",
   "execution_count": 110,
   "metadata": {},
   "outputs": [],
   "source": [
    "X = pd.get_dummies(df1_, drop_first=True)\n",
    "x_tmp = scaler.fit_transform(X)"
   ]
  },
  {
   "cell_type": "code",
   "execution_count": 111,
   "metadata": {},
   "outputs": [],
   "source": [
    "x_scaled = pd.DataFrame(x_tmp, columns=X.columns)"
   ]
  },
  {
   "cell_type": "code",
   "execution_count": 112,
   "metadata": {},
   "outputs": [],
   "source": [
    "#xg_preds = rf.predict(X_test)\n",
    "xg_preds = xg.predict(x_scaled)\n",
    "df1['Fraud']=xg_preds\n",
    "df1['Fraud'] = df1['Fraud'] .replace(1,'Yes').replace(0,'No')"
   ]
  },
  {
   "cell_type": "code",
   "execution_count": 113,
   "metadata": {},
   "outputs": [],
   "source": [
    "df1.to_csv('validation_results.csv')"
   ]
  },
  {
   "cell_type": "code",
   "execution_count": null,
   "metadata": {},
   "outputs": [],
   "source": []
  }
 ],
 "metadata": {
  "kernelspec": {
   "display_name": "Python 3 (ipykernel)",
   "language": "python",
   "name": "python3"
  },
  "language_info": {
   "codemirror_mode": {
    "name": "ipython",
    "version": 3
   },
   "file_extension": ".py",
   "mimetype": "text/x-python",
   "name": "python",
   "nbconvert_exporter": "python",
   "pygments_lexer": "ipython3",
   "version": "3.9.7"
  }
 },
 "nbformat": 4,
 "nbformat_minor": 4
}
